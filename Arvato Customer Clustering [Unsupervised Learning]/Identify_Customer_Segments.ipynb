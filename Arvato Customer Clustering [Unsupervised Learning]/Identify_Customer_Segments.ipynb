{
 "cells": [
  {
   "cell_type": "markdown",
   "metadata": {},
   "source": [
    "# Project: Identify Customer Segments\n",
    "\n",
    "In this project, you will apply unsupervised learning techniques to identify segments of the population that form the core customer base for a mail-order sales company in Germany. These segments can then be used to direct marketing campaigns towards audiences that will have the highest expected rate of returns. The data that you will use has been provided by our partners at Bertelsmann Arvato Analytics, and represents a real-life data science task.\n",
    "\n",
    "This notebook will help you complete this task by providing a framework within which you will perform your analysis steps. In each step of the project, you will see some text describing the subtask that you will perform, followed by one or more code cells for you to complete your work. **Feel free to add additional code and markdown cells as you go along so that you can explore everything in precise chunks.** The code cells provided in the base template will outline only the major tasks, and will usually not be enough to cover all of the minor tasks that comprise it.\n",
    "\n",
    "It should be noted that while there will be precise guidelines on how you should handle certain tasks in the project, there will also be places where an exact specification is not provided. **There will be times in the project where you will need to make and justify your own decisions on how to treat the data.** These are places where there may not be only one way to handle the data. In real-life tasks, there may be many valid ways to approach an analysis task. One of the most important things you can do is clearly document your approach so that other scientists can understand the decisions you've made.\n",
    "\n",
    "At the end of most sections, there will be a Markdown cell labeled **Discussion**. In these cells, you will report your findings for the completed section, as well as document the decisions that you made in your approach to each subtask. **Your project will be evaluated not just on the code used to complete the tasks outlined, but also your communication about your observations and conclusions at each stage.**"
   ]
  },
  {
   "cell_type": "code",
   "execution_count": 1,
   "metadata": {},
   "outputs": [
    {
     "data": {
      "text/plain": [
       "'\\nImport note: The classroom currently uses sklearn version 0.19.\\nIf you need to use an imputer, it is available in sklearn.preprocessing.Imputer,\\ninstead of sklearn.impute as in newer versions of sklearn.\\n'"
      ]
     },
     "execution_count": 1,
     "metadata": {},
     "output_type": "execute_result"
    }
   ],
   "source": [
    "# import libraries here; add more as necessary\n",
    "import numpy as np\n",
    "import pandas as pd\n",
    "import matplotlib.pyplot as plt\n",
    "import seaborn as sns\n",
    "\n",
    "# magic word for producing visualizations in notebook\n",
    "%matplotlib inline\n",
    "\n",
    "'''\n",
    "Import note: The classroom currently uses sklearn version 0.19.\n",
    "If you need to use an imputer, it is available in sklearn.preprocessing.Imputer,\n",
    "instead of sklearn.impute as in newer versions of sklearn.\n",
    "'''"
   ]
  },
  {
   "cell_type": "code",
   "execution_count": 2,
   "metadata": {},
   "outputs": [
    {
     "name": "stdout",
     "output_type": "stream",
     "text": [
      "Collecting sklearn\n",
      "  Downloading https://files.pythonhosted.org/packages/1e/7a/dbb3be0ce9bd5c8b7e3d87328e79063f8b263b2b1bfa4774cb1147bfcd3f/sklearn-0.0.tar.gz\n",
      "Requirement already satisfied, skipping upgrade: scikit-learn in /opt/conda/lib/python3.6/site-packages (from sklearn) (0.19.1)\n",
      "Building wheels for collected packages: sklearn\n",
      "  Running setup.py bdist_wheel for sklearn ... \u001b[?25ldone\n",
      "\u001b[?25h  Stored in directory: /root/.cache/pip/wheels/76/03/bb/589d421d27431bcd2c6da284d5f2286c8e3b2ea3cf1594c074\n",
      "Successfully built sklearn\n",
      "Installing collected packages: sklearn\n",
      "Successfully installed sklearn-0.0\n"
     ]
    }
   ],
   "source": [
    "!pip install -U sklearn"
   ]
  },
  {
   "cell_type": "markdown",
   "metadata": {},
   "source": [
    "### Step 0: Load the Data\n",
    "\n",
    "There are four files associated with this project (not including this one):\n",
    "\n",
    "- `Udacity_AZDIAS_Subset.csv`: Demographics data for the general population of Germany; 891211 persons (rows) x 85 features (columns).\n",
    "- `Udacity_CUSTOMERS_Subset.csv`: Demographics data for customers of a mail-order company; 191652 persons (rows) x 85 features (columns).\n",
    "- `Data_Dictionary.md`: Detailed information file about the features in the provided datasets.\n",
    "- `AZDIAS_Feature_Summary.csv`: Summary of feature attributes for demographics data; 85 features (rows) x 4 columns\n",
    "\n",
    "Each row of the demographics files represents a single person, but also includes information outside of individuals, including information about their household, building, and neighborhood. You will use this information to cluster the general population into groups with similar demographic properties. Then, you will see how the people in the customers dataset fit into those created clusters. The hope here is that certain clusters are over-represented in the customers data, as compared to the general population; those over-represented clusters will be assumed to be part of the core userbase. This information can then be used for further applications, such as targeting for a marketing campaign.\n",
    "\n",
    "To start off with, load in the demographics data for the general population into a pandas DataFrame, and do the same for the feature attributes summary. Note for all of the `.csv` data files in this project: they're semicolon (`;`) delimited, so you'll need an additional argument in your [`read_csv()`](https://pandas.pydata.org/pandas-docs/stable/generated/pandas.read_csv.html) call to read in the data properly. Also, considering the size of the main dataset, it may take some time for it to load completely.\n",
    "\n",
    "Once the dataset is loaded, it's recommended that you take a little bit of time just browsing the general structure of the dataset and feature summary file. You'll be getting deep into the innards of the cleaning in the first major step of the project, so gaining some general familiarity can help you get your bearings."
   ]
  },
  {
   "cell_type": "code",
   "execution_count": 3,
   "metadata": {},
   "outputs": [],
   "source": [
    "# Load in the general demographics data.\n",
    "azdias = pd.read_csv(\"Udacity_AZDIAS_Subset.csv\", sep = ';')\n",
    "\n",
    "# Load in the feature summary file.\n",
    "feat_info =  pd.read_csv(\"AZDIAS_Feature_Summary.csv\", sep = ';')"
   ]
  },
  {
   "cell_type": "code",
   "execution_count": 4,
   "metadata": {},
   "outputs": [
    {
     "data": {
      "text/html": [
       "<div>\n",
       "<style scoped>\n",
       "    .dataframe tbody tr th:only-of-type {\n",
       "        vertical-align: middle;\n",
       "    }\n",
       "\n",
       "    .dataframe tbody tr th {\n",
       "        vertical-align: top;\n",
       "    }\n",
       "\n",
       "    .dataframe thead th {\n",
       "        text-align: right;\n",
       "    }\n",
       "</style>\n",
       "<table border=\"1\" class=\"dataframe\">\n",
       "  <thead>\n",
       "    <tr style=\"text-align: right;\">\n",
       "      <th></th>\n",
       "      <th>AGER_TYP</th>\n",
       "      <th>ALTERSKATEGORIE_GROB</th>\n",
       "      <th>ANREDE_KZ</th>\n",
       "      <th>CJT_GESAMTTYP</th>\n",
       "      <th>FINANZ_MINIMALIST</th>\n",
       "      <th>FINANZ_SPARER</th>\n",
       "      <th>FINANZ_VORSORGER</th>\n",
       "      <th>FINANZ_ANLEGER</th>\n",
       "      <th>FINANZ_UNAUFFAELLIGER</th>\n",
       "      <th>FINANZ_HAUSBAUER</th>\n",
       "      <th>...</th>\n",
       "      <th>PLZ8_ANTG1</th>\n",
       "      <th>PLZ8_ANTG2</th>\n",
       "      <th>PLZ8_ANTG3</th>\n",
       "      <th>PLZ8_ANTG4</th>\n",
       "      <th>PLZ8_BAUMAX</th>\n",
       "      <th>PLZ8_HHZ</th>\n",
       "      <th>PLZ8_GBZ</th>\n",
       "      <th>ARBEIT</th>\n",
       "      <th>ORTSGR_KLS9</th>\n",
       "      <th>RELAT_AB</th>\n",
       "    </tr>\n",
       "  </thead>\n",
       "  <tbody>\n",
       "    <tr>\n",
       "      <th>0</th>\n",
       "      <td>-1</td>\n",
       "      <td>2</td>\n",
       "      <td>1</td>\n",
       "      <td>2.0</td>\n",
       "      <td>3</td>\n",
       "      <td>4</td>\n",
       "      <td>3</td>\n",
       "      <td>5</td>\n",
       "      <td>5</td>\n",
       "      <td>3</td>\n",
       "      <td>...</td>\n",
       "      <td>NaN</td>\n",
       "      <td>NaN</td>\n",
       "      <td>NaN</td>\n",
       "      <td>NaN</td>\n",
       "      <td>NaN</td>\n",
       "      <td>NaN</td>\n",
       "      <td>NaN</td>\n",
       "      <td>NaN</td>\n",
       "      <td>NaN</td>\n",
       "      <td>NaN</td>\n",
       "    </tr>\n",
       "    <tr>\n",
       "      <th>1</th>\n",
       "      <td>-1</td>\n",
       "      <td>1</td>\n",
       "      <td>2</td>\n",
       "      <td>5.0</td>\n",
       "      <td>1</td>\n",
       "      <td>5</td>\n",
       "      <td>2</td>\n",
       "      <td>5</td>\n",
       "      <td>4</td>\n",
       "      <td>5</td>\n",
       "      <td>...</td>\n",
       "      <td>2.0</td>\n",
       "      <td>3.0</td>\n",
       "      <td>2.0</td>\n",
       "      <td>1.0</td>\n",
       "      <td>1.0</td>\n",
       "      <td>5.0</td>\n",
       "      <td>4.0</td>\n",
       "      <td>3.0</td>\n",
       "      <td>5.0</td>\n",
       "      <td>4.0</td>\n",
       "    </tr>\n",
       "    <tr>\n",
       "      <th>2</th>\n",
       "      <td>-1</td>\n",
       "      <td>3</td>\n",
       "      <td>2</td>\n",
       "      <td>3.0</td>\n",
       "      <td>1</td>\n",
       "      <td>4</td>\n",
       "      <td>1</td>\n",
       "      <td>2</td>\n",
       "      <td>3</td>\n",
       "      <td>5</td>\n",
       "      <td>...</td>\n",
       "      <td>3.0</td>\n",
       "      <td>3.0</td>\n",
       "      <td>1.0</td>\n",
       "      <td>0.0</td>\n",
       "      <td>1.0</td>\n",
       "      <td>4.0</td>\n",
       "      <td>4.0</td>\n",
       "      <td>3.0</td>\n",
       "      <td>5.0</td>\n",
       "      <td>2.0</td>\n",
       "    </tr>\n",
       "    <tr>\n",
       "      <th>3</th>\n",
       "      <td>2</td>\n",
       "      <td>4</td>\n",
       "      <td>2</td>\n",
       "      <td>2.0</td>\n",
       "      <td>4</td>\n",
       "      <td>2</td>\n",
       "      <td>5</td>\n",
       "      <td>2</td>\n",
       "      <td>1</td>\n",
       "      <td>2</td>\n",
       "      <td>...</td>\n",
       "      <td>2.0</td>\n",
       "      <td>2.0</td>\n",
       "      <td>2.0</td>\n",
       "      <td>0.0</td>\n",
       "      <td>1.0</td>\n",
       "      <td>3.0</td>\n",
       "      <td>4.0</td>\n",
       "      <td>2.0</td>\n",
       "      <td>3.0</td>\n",
       "      <td>3.0</td>\n",
       "    </tr>\n",
       "    <tr>\n",
       "      <th>4</th>\n",
       "      <td>-1</td>\n",
       "      <td>3</td>\n",
       "      <td>1</td>\n",
       "      <td>5.0</td>\n",
       "      <td>4</td>\n",
       "      <td>3</td>\n",
       "      <td>4</td>\n",
       "      <td>1</td>\n",
       "      <td>3</td>\n",
       "      <td>2</td>\n",
       "      <td>...</td>\n",
       "      <td>2.0</td>\n",
       "      <td>4.0</td>\n",
       "      <td>2.0</td>\n",
       "      <td>1.0</td>\n",
       "      <td>2.0</td>\n",
       "      <td>3.0</td>\n",
       "      <td>3.0</td>\n",
       "      <td>4.0</td>\n",
       "      <td>6.0</td>\n",
       "      <td>5.0</td>\n",
       "    </tr>\n",
       "  </tbody>\n",
       "</table>\n",
       "<p>5 rows × 85 columns</p>\n",
       "</div>"
      ],
      "text/plain": [
       "   AGER_TYP  ALTERSKATEGORIE_GROB  ANREDE_KZ  CJT_GESAMTTYP  \\\n",
       "0        -1                     2          1            2.0   \n",
       "1        -1                     1          2            5.0   \n",
       "2        -1                     3          2            3.0   \n",
       "3         2                     4          2            2.0   \n",
       "4        -1                     3          1            5.0   \n",
       "\n",
       "   FINANZ_MINIMALIST  FINANZ_SPARER  FINANZ_VORSORGER  FINANZ_ANLEGER  \\\n",
       "0                  3              4                 3               5   \n",
       "1                  1              5                 2               5   \n",
       "2                  1              4                 1               2   \n",
       "3                  4              2                 5               2   \n",
       "4                  4              3                 4               1   \n",
       "\n",
       "   FINANZ_UNAUFFAELLIGER  FINANZ_HAUSBAUER    ...     PLZ8_ANTG1  PLZ8_ANTG2  \\\n",
       "0                      5                 3    ...            NaN         NaN   \n",
       "1                      4                 5    ...            2.0         3.0   \n",
       "2                      3                 5    ...            3.0         3.0   \n",
       "3                      1                 2    ...            2.0         2.0   \n",
       "4                      3                 2    ...            2.0         4.0   \n",
       "\n",
       "   PLZ8_ANTG3  PLZ8_ANTG4  PLZ8_BAUMAX  PLZ8_HHZ  PLZ8_GBZ  ARBEIT  \\\n",
       "0         NaN         NaN          NaN       NaN       NaN     NaN   \n",
       "1         2.0         1.0          1.0       5.0       4.0     3.0   \n",
       "2         1.0         0.0          1.0       4.0       4.0     3.0   \n",
       "3         2.0         0.0          1.0       3.0       4.0     2.0   \n",
       "4         2.0         1.0          2.0       3.0       3.0     4.0   \n",
       "\n",
       "   ORTSGR_KLS9  RELAT_AB  \n",
       "0          NaN       NaN  \n",
       "1          5.0       4.0  \n",
       "2          5.0       2.0  \n",
       "3          3.0       3.0  \n",
       "4          6.0       5.0  \n",
       "\n",
       "[5 rows x 85 columns]"
      ]
     },
     "execution_count": 4,
     "metadata": {},
     "output_type": "execute_result"
    }
   ],
   "source": [
    "# Check the structure of the data after it's loaded (e.g. print the number of\n",
    "# rows and columns, print the first few rows).\n",
    "\n",
    "#exploring azdias dataset\n",
    "azdias.head()"
   ]
  },
  {
   "cell_type": "code",
   "execution_count": 5,
   "metadata": {},
   "outputs": [
    {
     "name": "stdout",
     "output_type": "stream",
     "text": [
      "<class 'pandas.core.frame.DataFrame'>\n",
      "RangeIndex: 891221 entries, 0 to 891220\n",
      "Data columns (total 85 columns):\n",
      "AGER_TYP                 891221 non-null int64\n",
      "ALTERSKATEGORIE_GROB     891221 non-null int64\n",
      "ANREDE_KZ                891221 non-null int64\n",
      "CJT_GESAMTTYP            886367 non-null float64\n",
      "FINANZ_MINIMALIST        891221 non-null int64\n",
      "FINANZ_SPARER            891221 non-null int64\n",
      "FINANZ_VORSORGER         891221 non-null int64\n",
      "FINANZ_ANLEGER           891221 non-null int64\n",
      "FINANZ_UNAUFFAELLIGER    891221 non-null int64\n",
      "FINANZ_HAUSBAUER         891221 non-null int64\n",
      "FINANZTYP                891221 non-null int64\n",
      "GEBURTSJAHR              891221 non-null int64\n",
      "GFK_URLAUBERTYP          886367 non-null float64\n",
      "GREEN_AVANTGARDE         891221 non-null int64\n",
      "HEALTH_TYP               891221 non-null int64\n",
      "LP_LEBENSPHASE_FEIN      886367 non-null float64\n",
      "LP_LEBENSPHASE_GROB      886367 non-null float64\n",
      "LP_FAMILIE_FEIN          886367 non-null float64\n",
      "LP_FAMILIE_GROB          886367 non-null float64\n",
      "LP_STATUS_FEIN           886367 non-null float64\n",
      "LP_STATUS_GROB           886367 non-null float64\n",
      "NATIONALITAET_KZ         891221 non-null int64\n",
      "PRAEGENDE_JUGENDJAHRE    891221 non-null int64\n",
      "RETOURTYP_BK_S           886367 non-null float64\n",
      "SEMIO_SOZ                891221 non-null int64\n",
      "SEMIO_FAM                891221 non-null int64\n",
      "SEMIO_REL                891221 non-null int64\n",
      "SEMIO_MAT                891221 non-null int64\n",
      "SEMIO_VERT               891221 non-null int64\n",
      "SEMIO_LUST               891221 non-null int64\n",
      "SEMIO_ERL                891221 non-null int64\n",
      "SEMIO_KULT               891221 non-null int64\n",
      "SEMIO_RAT                891221 non-null int64\n",
      "SEMIO_KRIT               891221 non-null int64\n",
      "SEMIO_DOM                891221 non-null int64\n",
      "SEMIO_KAEM               891221 non-null int64\n",
      "SEMIO_PFLICHT            891221 non-null int64\n",
      "SEMIO_TRADV              891221 non-null int64\n",
      "SHOPPER_TYP              891221 non-null int64\n",
      "SOHO_KZ                  817722 non-null float64\n",
      "TITEL_KZ                 817722 non-null float64\n",
      "VERS_TYP                 891221 non-null int64\n",
      "ZABEOTYP                 891221 non-null int64\n",
      "ALTER_HH                 817722 non-null float64\n",
      "ANZ_PERSONEN             817722 non-null float64\n",
      "ANZ_TITEL                817722 non-null float64\n",
      "HH_EINKOMMEN_SCORE       872873 non-null float64\n",
      "KK_KUNDENTYP             306609 non-null float64\n",
      "W_KEIT_KIND_HH           783619 non-null float64\n",
      "WOHNDAUER_2008           817722 non-null float64\n",
      "ANZ_HAUSHALTE_AKTIV      798073 non-null float64\n",
      "ANZ_HH_TITEL             794213 non-null float64\n",
      "GEBAEUDETYP              798073 non-null float64\n",
      "KONSUMNAEHE              817252 non-null float64\n",
      "MIN_GEBAEUDEJAHR         798073 non-null float64\n",
      "OST_WEST_KZ              798073 non-null object\n",
      "WOHNLAGE                 798073 non-null float64\n",
      "CAMEO_DEUG_2015          792242 non-null object\n",
      "CAMEO_DEU_2015           792242 non-null object\n",
      "CAMEO_INTL_2015          792242 non-null object\n",
      "KBA05_ANTG1              757897 non-null float64\n",
      "KBA05_ANTG2              757897 non-null float64\n",
      "KBA05_ANTG3              757897 non-null float64\n",
      "KBA05_ANTG4              757897 non-null float64\n",
      "KBA05_BAUMAX             757897 non-null float64\n",
      "KBA05_GBZ                757897 non-null float64\n",
      "BALLRAUM                 797481 non-null float64\n",
      "EWDICHTE                 797481 non-null float64\n",
      "INNENSTADT               797481 non-null float64\n",
      "GEBAEUDETYP_RASTER       798066 non-null float64\n",
      "KKK                      770025 non-null float64\n",
      "MOBI_REGIO               757897 non-null float64\n",
      "ONLINE_AFFINITAET        886367 non-null float64\n",
      "REGIOTYP                 770025 non-null float64\n",
      "KBA13_ANZAHL_PKW         785421 non-null float64\n",
      "PLZ8_ANTG1               774706 non-null float64\n",
      "PLZ8_ANTG2               774706 non-null float64\n",
      "PLZ8_ANTG3               774706 non-null float64\n",
      "PLZ8_ANTG4               774706 non-null float64\n",
      "PLZ8_BAUMAX              774706 non-null float64\n",
      "PLZ8_HHZ                 774706 non-null float64\n",
      "PLZ8_GBZ                 774706 non-null float64\n",
      "ARBEIT                   794005 non-null float64\n",
      "ORTSGR_KLS9              794005 non-null float64\n",
      "RELAT_AB                 794005 non-null float64\n",
      "dtypes: float64(49), int64(32), object(4)\n",
      "memory usage: 578.0+ MB\n"
     ]
    }
   ],
   "source": [
    "azdias.info()"
   ]
  },
  {
   "cell_type": "code",
   "execution_count": 6,
   "metadata": {},
   "outputs": [
    {
     "data": {
      "text/html": [
       "<div>\n",
       "<style scoped>\n",
       "    .dataframe tbody tr th:only-of-type {\n",
       "        vertical-align: middle;\n",
       "    }\n",
       "\n",
       "    .dataframe tbody tr th {\n",
       "        vertical-align: top;\n",
       "    }\n",
       "\n",
       "    .dataframe thead th {\n",
       "        text-align: right;\n",
       "    }\n",
       "</style>\n",
       "<table border=\"1\" class=\"dataframe\">\n",
       "  <thead>\n",
       "    <tr style=\"text-align: right;\">\n",
       "      <th></th>\n",
       "      <th>attribute</th>\n",
       "      <th>information_level</th>\n",
       "      <th>type</th>\n",
       "      <th>missing_or_unknown</th>\n",
       "    </tr>\n",
       "  </thead>\n",
       "  <tbody>\n",
       "    <tr>\n",
       "      <th>0</th>\n",
       "      <td>AGER_TYP</td>\n",
       "      <td>person</td>\n",
       "      <td>categorical</td>\n",
       "      <td>[-1,0]</td>\n",
       "    </tr>\n",
       "    <tr>\n",
       "      <th>1</th>\n",
       "      <td>ALTERSKATEGORIE_GROB</td>\n",
       "      <td>person</td>\n",
       "      <td>ordinal</td>\n",
       "      <td>[-1,0,9]</td>\n",
       "    </tr>\n",
       "    <tr>\n",
       "      <th>2</th>\n",
       "      <td>ANREDE_KZ</td>\n",
       "      <td>person</td>\n",
       "      <td>categorical</td>\n",
       "      <td>[-1,0]</td>\n",
       "    </tr>\n",
       "    <tr>\n",
       "      <th>3</th>\n",
       "      <td>CJT_GESAMTTYP</td>\n",
       "      <td>person</td>\n",
       "      <td>categorical</td>\n",
       "      <td>[0]</td>\n",
       "    </tr>\n",
       "    <tr>\n",
       "      <th>4</th>\n",
       "      <td>FINANZ_MINIMALIST</td>\n",
       "      <td>person</td>\n",
       "      <td>ordinal</td>\n",
       "      <td>[-1]</td>\n",
       "    </tr>\n",
       "    <tr>\n",
       "      <th>5</th>\n",
       "      <td>FINANZ_SPARER</td>\n",
       "      <td>person</td>\n",
       "      <td>ordinal</td>\n",
       "      <td>[-1]</td>\n",
       "    </tr>\n",
       "    <tr>\n",
       "      <th>6</th>\n",
       "      <td>FINANZ_VORSORGER</td>\n",
       "      <td>person</td>\n",
       "      <td>ordinal</td>\n",
       "      <td>[-1]</td>\n",
       "    </tr>\n",
       "    <tr>\n",
       "      <th>7</th>\n",
       "      <td>FINANZ_ANLEGER</td>\n",
       "      <td>person</td>\n",
       "      <td>ordinal</td>\n",
       "      <td>[-1]</td>\n",
       "    </tr>\n",
       "    <tr>\n",
       "      <th>8</th>\n",
       "      <td>FINANZ_UNAUFFAELLIGER</td>\n",
       "      <td>person</td>\n",
       "      <td>ordinal</td>\n",
       "      <td>[-1]</td>\n",
       "    </tr>\n",
       "    <tr>\n",
       "      <th>9</th>\n",
       "      <td>FINANZ_HAUSBAUER</td>\n",
       "      <td>person</td>\n",
       "      <td>ordinal</td>\n",
       "      <td>[-1]</td>\n",
       "    </tr>\n",
       "    <tr>\n",
       "      <th>10</th>\n",
       "      <td>FINANZTYP</td>\n",
       "      <td>person</td>\n",
       "      <td>categorical</td>\n",
       "      <td>[-1]</td>\n",
       "    </tr>\n",
       "    <tr>\n",
       "      <th>11</th>\n",
       "      <td>GEBURTSJAHR</td>\n",
       "      <td>person</td>\n",
       "      <td>numeric</td>\n",
       "      <td>[0]</td>\n",
       "    </tr>\n",
       "    <tr>\n",
       "      <th>12</th>\n",
       "      <td>GFK_URLAUBERTYP</td>\n",
       "      <td>person</td>\n",
       "      <td>categorical</td>\n",
       "      <td>[]</td>\n",
       "    </tr>\n",
       "    <tr>\n",
       "      <th>13</th>\n",
       "      <td>GREEN_AVANTGARDE</td>\n",
       "      <td>person</td>\n",
       "      <td>categorical</td>\n",
       "      <td>[]</td>\n",
       "    </tr>\n",
       "    <tr>\n",
       "      <th>14</th>\n",
       "      <td>HEALTH_TYP</td>\n",
       "      <td>person</td>\n",
       "      <td>ordinal</td>\n",
       "      <td>[-1,0]</td>\n",
       "    </tr>\n",
       "    <tr>\n",
       "      <th>15</th>\n",
       "      <td>LP_LEBENSPHASE_FEIN</td>\n",
       "      <td>person</td>\n",
       "      <td>mixed</td>\n",
       "      <td>[0]</td>\n",
       "    </tr>\n",
       "    <tr>\n",
       "      <th>16</th>\n",
       "      <td>LP_LEBENSPHASE_GROB</td>\n",
       "      <td>person</td>\n",
       "      <td>mixed</td>\n",
       "      <td>[0]</td>\n",
       "    </tr>\n",
       "    <tr>\n",
       "      <th>17</th>\n",
       "      <td>LP_FAMILIE_FEIN</td>\n",
       "      <td>person</td>\n",
       "      <td>categorical</td>\n",
       "      <td>[0]</td>\n",
       "    </tr>\n",
       "    <tr>\n",
       "      <th>18</th>\n",
       "      <td>LP_FAMILIE_GROB</td>\n",
       "      <td>person</td>\n",
       "      <td>categorical</td>\n",
       "      <td>[0]</td>\n",
       "    </tr>\n",
       "    <tr>\n",
       "      <th>19</th>\n",
       "      <td>LP_STATUS_FEIN</td>\n",
       "      <td>person</td>\n",
       "      <td>categorical</td>\n",
       "      <td>[0]</td>\n",
       "    </tr>\n",
       "    <tr>\n",
       "      <th>20</th>\n",
       "      <td>LP_STATUS_GROB</td>\n",
       "      <td>person</td>\n",
       "      <td>categorical</td>\n",
       "      <td>[0]</td>\n",
       "    </tr>\n",
       "    <tr>\n",
       "      <th>21</th>\n",
       "      <td>NATIONALITAET_KZ</td>\n",
       "      <td>person</td>\n",
       "      <td>categorical</td>\n",
       "      <td>[-1,0]</td>\n",
       "    </tr>\n",
       "    <tr>\n",
       "      <th>22</th>\n",
       "      <td>PRAEGENDE_JUGENDJAHRE</td>\n",
       "      <td>person</td>\n",
       "      <td>mixed</td>\n",
       "      <td>[-1,0]</td>\n",
       "    </tr>\n",
       "    <tr>\n",
       "      <th>23</th>\n",
       "      <td>RETOURTYP_BK_S</td>\n",
       "      <td>person</td>\n",
       "      <td>ordinal</td>\n",
       "      <td>[0]</td>\n",
       "    </tr>\n",
       "    <tr>\n",
       "      <th>24</th>\n",
       "      <td>SEMIO_SOZ</td>\n",
       "      <td>person</td>\n",
       "      <td>ordinal</td>\n",
       "      <td>[-1,9]</td>\n",
       "    </tr>\n",
       "    <tr>\n",
       "      <th>25</th>\n",
       "      <td>SEMIO_FAM</td>\n",
       "      <td>person</td>\n",
       "      <td>ordinal</td>\n",
       "      <td>[-1,9]</td>\n",
       "    </tr>\n",
       "    <tr>\n",
       "      <th>26</th>\n",
       "      <td>SEMIO_REL</td>\n",
       "      <td>person</td>\n",
       "      <td>ordinal</td>\n",
       "      <td>[-1,9]</td>\n",
       "    </tr>\n",
       "    <tr>\n",
       "      <th>27</th>\n",
       "      <td>SEMIO_MAT</td>\n",
       "      <td>person</td>\n",
       "      <td>ordinal</td>\n",
       "      <td>[-1,9]</td>\n",
       "    </tr>\n",
       "    <tr>\n",
       "      <th>28</th>\n",
       "      <td>SEMIO_VERT</td>\n",
       "      <td>person</td>\n",
       "      <td>ordinal</td>\n",
       "      <td>[-1,9]</td>\n",
       "    </tr>\n",
       "    <tr>\n",
       "      <th>29</th>\n",
       "      <td>SEMIO_LUST</td>\n",
       "      <td>person</td>\n",
       "      <td>ordinal</td>\n",
       "      <td>[-1,9]</td>\n",
       "    </tr>\n",
       "    <tr>\n",
       "      <th>...</th>\n",
       "      <td>...</td>\n",
       "      <td>...</td>\n",
       "      <td>...</td>\n",
       "      <td>...</td>\n",
       "    </tr>\n",
       "    <tr>\n",
       "      <th>55</th>\n",
       "      <td>OST_WEST_KZ</td>\n",
       "      <td>building</td>\n",
       "      <td>categorical</td>\n",
       "      <td>[-1]</td>\n",
       "    </tr>\n",
       "    <tr>\n",
       "      <th>56</th>\n",
       "      <td>WOHNLAGE</td>\n",
       "      <td>building</td>\n",
       "      <td>mixed</td>\n",
       "      <td>[-1]</td>\n",
       "    </tr>\n",
       "    <tr>\n",
       "      <th>57</th>\n",
       "      <td>CAMEO_DEUG_2015</td>\n",
       "      <td>microcell_rr4</td>\n",
       "      <td>categorical</td>\n",
       "      <td>[-1,X]</td>\n",
       "    </tr>\n",
       "    <tr>\n",
       "      <th>58</th>\n",
       "      <td>CAMEO_DEU_2015</td>\n",
       "      <td>microcell_rr4</td>\n",
       "      <td>categorical</td>\n",
       "      <td>[XX]</td>\n",
       "    </tr>\n",
       "    <tr>\n",
       "      <th>59</th>\n",
       "      <td>CAMEO_INTL_2015</td>\n",
       "      <td>microcell_rr4</td>\n",
       "      <td>mixed</td>\n",
       "      <td>[-1,XX]</td>\n",
       "    </tr>\n",
       "    <tr>\n",
       "      <th>60</th>\n",
       "      <td>KBA05_ANTG1</td>\n",
       "      <td>microcell_rr3</td>\n",
       "      <td>ordinal</td>\n",
       "      <td>[-1]</td>\n",
       "    </tr>\n",
       "    <tr>\n",
       "      <th>61</th>\n",
       "      <td>KBA05_ANTG2</td>\n",
       "      <td>microcell_rr3</td>\n",
       "      <td>ordinal</td>\n",
       "      <td>[-1]</td>\n",
       "    </tr>\n",
       "    <tr>\n",
       "      <th>62</th>\n",
       "      <td>KBA05_ANTG3</td>\n",
       "      <td>microcell_rr3</td>\n",
       "      <td>ordinal</td>\n",
       "      <td>[-1]</td>\n",
       "    </tr>\n",
       "    <tr>\n",
       "      <th>63</th>\n",
       "      <td>KBA05_ANTG4</td>\n",
       "      <td>microcell_rr3</td>\n",
       "      <td>ordinal</td>\n",
       "      <td>[-1]</td>\n",
       "    </tr>\n",
       "    <tr>\n",
       "      <th>64</th>\n",
       "      <td>KBA05_BAUMAX</td>\n",
       "      <td>microcell_rr3</td>\n",
       "      <td>mixed</td>\n",
       "      <td>[-1,0]</td>\n",
       "    </tr>\n",
       "    <tr>\n",
       "      <th>65</th>\n",
       "      <td>KBA05_GBZ</td>\n",
       "      <td>microcell_rr3</td>\n",
       "      <td>ordinal</td>\n",
       "      <td>[-1,0]</td>\n",
       "    </tr>\n",
       "    <tr>\n",
       "      <th>66</th>\n",
       "      <td>BALLRAUM</td>\n",
       "      <td>postcode</td>\n",
       "      <td>ordinal</td>\n",
       "      <td>[-1]</td>\n",
       "    </tr>\n",
       "    <tr>\n",
       "      <th>67</th>\n",
       "      <td>EWDICHTE</td>\n",
       "      <td>postcode</td>\n",
       "      <td>ordinal</td>\n",
       "      <td>[-1]</td>\n",
       "    </tr>\n",
       "    <tr>\n",
       "      <th>68</th>\n",
       "      <td>INNENSTADT</td>\n",
       "      <td>postcode</td>\n",
       "      <td>ordinal</td>\n",
       "      <td>[-1]</td>\n",
       "    </tr>\n",
       "    <tr>\n",
       "      <th>69</th>\n",
       "      <td>GEBAEUDETYP_RASTER</td>\n",
       "      <td>region_rr1</td>\n",
       "      <td>ordinal</td>\n",
       "      <td>[]</td>\n",
       "    </tr>\n",
       "    <tr>\n",
       "      <th>70</th>\n",
       "      <td>KKK</td>\n",
       "      <td>region_rr1</td>\n",
       "      <td>ordinal</td>\n",
       "      <td>[-1,0]</td>\n",
       "    </tr>\n",
       "    <tr>\n",
       "      <th>71</th>\n",
       "      <td>MOBI_REGIO</td>\n",
       "      <td>region_rr1</td>\n",
       "      <td>ordinal</td>\n",
       "      <td>[]</td>\n",
       "    </tr>\n",
       "    <tr>\n",
       "      <th>72</th>\n",
       "      <td>ONLINE_AFFINITAET</td>\n",
       "      <td>region_rr1</td>\n",
       "      <td>ordinal</td>\n",
       "      <td>[]</td>\n",
       "    </tr>\n",
       "    <tr>\n",
       "      <th>73</th>\n",
       "      <td>REGIOTYP</td>\n",
       "      <td>region_rr1</td>\n",
       "      <td>ordinal</td>\n",
       "      <td>[-1,0]</td>\n",
       "    </tr>\n",
       "    <tr>\n",
       "      <th>74</th>\n",
       "      <td>KBA13_ANZAHL_PKW</td>\n",
       "      <td>macrocell_plz8</td>\n",
       "      <td>numeric</td>\n",
       "      <td>[]</td>\n",
       "    </tr>\n",
       "    <tr>\n",
       "      <th>75</th>\n",
       "      <td>PLZ8_ANTG1</td>\n",
       "      <td>macrocell_plz8</td>\n",
       "      <td>ordinal</td>\n",
       "      <td>[-1]</td>\n",
       "    </tr>\n",
       "    <tr>\n",
       "      <th>76</th>\n",
       "      <td>PLZ8_ANTG2</td>\n",
       "      <td>macrocell_plz8</td>\n",
       "      <td>ordinal</td>\n",
       "      <td>[-1]</td>\n",
       "    </tr>\n",
       "    <tr>\n",
       "      <th>77</th>\n",
       "      <td>PLZ8_ANTG3</td>\n",
       "      <td>macrocell_plz8</td>\n",
       "      <td>ordinal</td>\n",
       "      <td>[-1]</td>\n",
       "    </tr>\n",
       "    <tr>\n",
       "      <th>78</th>\n",
       "      <td>PLZ8_ANTG4</td>\n",
       "      <td>macrocell_plz8</td>\n",
       "      <td>ordinal</td>\n",
       "      <td>[-1]</td>\n",
       "    </tr>\n",
       "    <tr>\n",
       "      <th>79</th>\n",
       "      <td>PLZ8_BAUMAX</td>\n",
       "      <td>macrocell_plz8</td>\n",
       "      <td>mixed</td>\n",
       "      <td>[-1,0]</td>\n",
       "    </tr>\n",
       "    <tr>\n",
       "      <th>80</th>\n",
       "      <td>PLZ8_HHZ</td>\n",
       "      <td>macrocell_plz8</td>\n",
       "      <td>ordinal</td>\n",
       "      <td>[-1]</td>\n",
       "    </tr>\n",
       "    <tr>\n",
       "      <th>81</th>\n",
       "      <td>PLZ8_GBZ</td>\n",
       "      <td>macrocell_plz8</td>\n",
       "      <td>ordinal</td>\n",
       "      <td>[-1]</td>\n",
       "    </tr>\n",
       "    <tr>\n",
       "      <th>82</th>\n",
       "      <td>ARBEIT</td>\n",
       "      <td>community</td>\n",
       "      <td>ordinal</td>\n",
       "      <td>[-1,9]</td>\n",
       "    </tr>\n",
       "    <tr>\n",
       "      <th>83</th>\n",
       "      <td>ORTSGR_KLS9</td>\n",
       "      <td>community</td>\n",
       "      <td>ordinal</td>\n",
       "      <td>[-1,0]</td>\n",
       "    </tr>\n",
       "    <tr>\n",
       "      <th>84</th>\n",
       "      <td>RELAT_AB</td>\n",
       "      <td>community</td>\n",
       "      <td>ordinal</td>\n",
       "      <td>[-1,9]</td>\n",
       "    </tr>\n",
       "  </tbody>\n",
       "</table>\n",
       "<p>85 rows × 4 columns</p>\n",
       "</div>"
      ],
      "text/plain": [
       "                attribute information_level         type missing_or_unknown\n",
       "0                AGER_TYP            person  categorical             [-1,0]\n",
       "1    ALTERSKATEGORIE_GROB            person      ordinal           [-1,0,9]\n",
       "2               ANREDE_KZ            person  categorical             [-1,0]\n",
       "3           CJT_GESAMTTYP            person  categorical                [0]\n",
       "4       FINANZ_MINIMALIST            person      ordinal               [-1]\n",
       "5           FINANZ_SPARER            person      ordinal               [-1]\n",
       "6        FINANZ_VORSORGER            person      ordinal               [-1]\n",
       "7          FINANZ_ANLEGER            person      ordinal               [-1]\n",
       "8   FINANZ_UNAUFFAELLIGER            person      ordinal               [-1]\n",
       "9        FINANZ_HAUSBAUER            person      ordinal               [-1]\n",
       "10              FINANZTYP            person  categorical               [-1]\n",
       "11            GEBURTSJAHR            person      numeric                [0]\n",
       "12        GFK_URLAUBERTYP            person  categorical                 []\n",
       "13       GREEN_AVANTGARDE            person  categorical                 []\n",
       "14             HEALTH_TYP            person      ordinal             [-1,0]\n",
       "15    LP_LEBENSPHASE_FEIN            person        mixed                [0]\n",
       "16    LP_LEBENSPHASE_GROB            person        mixed                [0]\n",
       "17        LP_FAMILIE_FEIN            person  categorical                [0]\n",
       "18        LP_FAMILIE_GROB            person  categorical                [0]\n",
       "19         LP_STATUS_FEIN            person  categorical                [0]\n",
       "20         LP_STATUS_GROB            person  categorical                [0]\n",
       "21       NATIONALITAET_KZ            person  categorical             [-1,0]\n",
       "22  PRAEGENDE_JUGENDJAHRE            person        mixed             [-1,0]\n",
       "23         RETOURTYP_BK_S            person      ordinal                [0]\n",
       "24              SEMIO_SOZ            person      ordinal             [-1,9]\n",
       "25              SEMIO_FAM            person      ordinal             [-1,9]\n",
       "26              SEMIO_REL            person      ordinal             [-1,9]\n",
       "27              SEMIO_MAT            person      ordinal             [-1,9]\n",
       "28             SEMIO_VERT            person      ordinal             [-1,9]\n",
       "29             SEMIO_LUST            person      ordinal             [-1,9]\n",
       "..                    ...               ...          ...                ...\n",
       "55            OST_WEST_KZ          building  categorical               [-1]\n",
       "56               WOHNLAGE          building        mixed               [-1]\n",
       "57        CAMEO_DEUG_2015     microcell_rr4  categorical             [-1,X]\n",
       "58         CAMEO_DEU_2015     microcell_rr4  categorical               [XX]\n",
       "59        CAMEO_INTL_2015     microcell_rr4        mixed            [-1,XX]\n",
       "60            KBA05_ANTG1     microcell_rr3      ordinal               [-1]\n",
       "61            KBA05_ANTG2     microcell_rr3      ordinal               [-1]\n",
       "62            KBA05_ANTG3     microcell_rr3      ordinal               [-1]\n",
       "63            KBA05_ANTG4     microcell_rr3      ordinal               [-1]\n",
       "64           KBA05_BAUMAX     microcell_rr3        mixed             [-1,0]\n",
       "65              KBA05_GBZ     microcell_rr3      ordinal             [-1,0]\n",
       "66               BALLRAUM          postcode      ordinal               [-1]\n",
       "67               EWDICHTE          postcode      ordinal               [-1]\n",
       "68             INNENSTADT          postcode      ordinal               [-1]\n",
       "69     GEBAEUDETYP_RASTER        region_rr1      ordinal                 []\n",
       "70                    KKK        region_rr1      ordinal             [-1,0]\n",
       "71             MOBI_REGIO        region_rr1      ordinal                 []\n",
       "72      ONLINE_AFFINITAET        region_rr1      ordinal                 []\n",
       "73               REGIOTYP        region_rr1      ordinal             [-1,0]\n",
       "74       KBA13_ANZAHL_PKW    macrocell_plz8      numeric                 []\n",
       "75             PLZ8_ANTG1    macrocell_plz8      ordinal               [-1]\n",
       "76             PLZ8_ANTG2    macrocell_plz8      ordinal               [-1]\n",
       "77             PLZ8_ANTG3    macrocell_plz8      ordinal               [-1]\n",
       "78             PLZ8_ANTG4    macrocell_plz8      ordinal               [-1]\n",
       "79            PLZ8_BAUMAX    macrocell_plz8        mixed             [-1,0]\n",
       "80               PLZ8_HHZ    macrocell_plz8      ordinal               [-1]\n",
       "81               PLZ8_GBZ    macrocell_plz8      ordinal               [-1]\n",
       "82                 ARBEIT         community      ordinal             [-1,9]\n",
       "83            ORTSGR_KLS9         community      ordinal             [-1,0]\n",
       "84               RELAT_AB         community      ordinal             [-1,9]\n",
       "\n",
       "[85 rows x 4 columns]"
      ]
     },
     "execution_count": 6,
     "metadata": {},
     "output_type": "execute_result"
    }
   ],
   "source": [
    "feat_info"
   ]
  },
  {
   "cell_type": "markdown",
   "metadata": {},
   "source": [
    "> **Tip**: Add additional cells to keep everything in reasonably-sized chunks! Keyboard shortcut `esc --> a` (press escape to enter command mode, then press the 'A' key) adds a new cell before the active cell, and `esc --> b` adds a new cell after the active cell. If you need to convert an active cell to a markdown cell, use `esc --> m` and to convert to a code cell, use `esc --> y`. \n",
    "\n",
    "## Step 1: Preprocessing\n",
    "\n",
    "### Step 1.1: Assess Missing Data\n",
    "\n",
    "The feature summary file contains a summary of properties for each demographics data column. You will use this file to help you make cleaning decisions during this stage of the project. First of all, you should assess the demographics data in terms of missing data. Pay attention to the following points as you perform your analysis, and take notes on what you observe. Make sure that you fill in the **Discussion** cell with your findings and decisions at the end of each step that has one!\n",
    "\n",
    "#### Step 1.1.1: Convert Missing Value Codes to NaNs\n",
    "The fourth column of the feature attributes summary (loaded in above as `feat_info`) documents the codes from the data dictionary that indicate missing or unknown data. While the file encodes this as a list (e.g. `[-1,0]`), this will get read in as a string object. You'll need to do a little bit of parsing to make use of it to identify and clean the data. Convert data that matches a 'missing' or 'unknown' value code into a numpy NaN value. You might want to see how much data takes on a 'missing' or 'unknown' code, and how much data is naturally missing, as a point of interest.\n",
    "\n",
    "**As one more reminder, you are encouraged to add additional cells to break up your analysis into manageable chunks.**"
   ]
  },
  {
   "cell_type": "code",
   "execution_count": null,
   "metadata": {},
   "outputs": [],
   "source": []
  },
  {
   "cell_type": "code",
   "execution_count": 7,
   "metadata": {},
   "outputs": [],
   "source": [
    "#Converting data that matches a 'missing' or 'unknown' value code into a numpy NaN value using the (feat_info) file\n",
    "\n",
    "for index, row in feat_info.iterrows():\n",
    "    #print(row['attribute'], row['missing_or_unknown'])\n",
    "    targeted_col=row['attribute']\n",
    "    #print(type(targeted_col))\n",
    "    X='X'\n",
    "    XX='XX'\n",
    "    for val in eval(row['missing_or_unknown']):\n",
    "        try:\n",
    "            val=int(val)\n",
    "        except:\n",
    "            val=str(val)\n",
    "            \n",
    "        azdias[targeted_col].replace({val: np.nan}, inplace=True)     "
   ]
  },
  {
   "cell_type": "code",
   "execution_count": 8,
   "metadata": {},
   "outputs": [
    {
     "name": "stdout",
     "output_type": "stream",
     "text": [
      "AGER_TYP                 0\n",
      "ALTERSKATEGORIE_GROB     0\n",
      "ANREDE_KZ                0\n",
      "CJT_GESAMTTYP            0\n",
      "FINANZ_MINIMALIST        0\n",
      "FINANZ_SPARER            0\n",
      "FINANZ_VORSORGER         0\n",
      "FINANZ_ANLEGER           0\n",
      "FINANZ_UNAUFFAELLIGER    0\n",
      "FINANZ_HAUSBAUER         0\n",
      "FINANZTYP                0\n",
      "GEBURTSJAHR              0\n",
      "GFK_URLAUBERTYP          0\n",
      "GREEN_AVANTGARDE         0\n",
      "HEALTH_TYP               0\n",
      "LP_LEBENSPHASE_FEIN      0\n",
      "LP_LEBENSPHASE_GROB      0\n",
      "LP_FAMILIE_FEIN          0\n",
      "LP_FAMILIE_GROB          0\n",
      "LP_STATUS_FEIN           0\n",
      "LP_STATUS_GROB           0\n",
      "NATIONALITAET_KZ         0\n",
      "PRAEGENDE_JUGENDJAHRE    0\n",
      "RETOURTYP_BK_S           0\n",
      "SEMIO_SOZ                0\n",
      "SEMIO_FAM                0\n",
      "SEMIO_REL                0\n",
      "SEMIO_MAT                0\n",
      "SEMIO_VERT               0\n",
      "SEMIO_LUST               0\n",
      "                        ..\n",
      "OST_WEST_KZ              0\n",
      "WOHNLAGE                 0\n",
      "CAMEO_DEUG_2015          0\n",
      "CAMEO_DEU_2015           0\n",
      "CAMEO_INTL_2015          0\n",
      "KBA05_ANTG1              0\n",
      "KBA05_ANTG2              0\n",
      "KBA05_ANTG3              0\n",
      "KBA05_ANTG4              0\n",
      "KBA05_BAUMAX             0\n",
      "KBA05_GBZ                0\n",
      "BALLRAUM                 0\n",
      "EWDICHTE                 0\n",
      "INNENSTADT               0\n",
      "GEBAEUDETYP_RASTER       0\n",
      "KKK                      0\n",
      "MOBI_REGIO               0\n",
      "ONLINE_AFFINITAET        0\n",
      "REGIOTYP                 0\n",
      "KBA13_ANZAHL_PKW         0\n",
      "PLZ8_ANTG1               0\n",
      "PLZ8_ANTG2               0\n",
      "PLZ8_ANTG3               0\n",
      "PLZ8_ANTG4               0\n",
      "PLZ8_BAUMAX              0\n",
      "PLZ8_HHZ                 0\n",
      "PLZ8_GBZ                 0\n",
      "ARBEIT                   0\n",
      "ORTSGR_KLS9              0\n",
      "RELAT_AB                 0\n",
      "Length: 85, dtype: int64\n"
     ]
    },
    {
     "data": {
      "text/html": [
       "<div>\n",
       "<style scoped>\n",
       "    .dataframe tbody tr th:only-of-type {\n",
       "        vertical-align: middle;\n",
       "    }\n",
       "\n",
       "    .dataframe tbody tr th {\n",
       "        vertical-align: top;\n",
       "    }\n",
       "\n",
       "    .dataframe thead th {\n",
       "        text-align: right;\n",
       "    }\n",
       "</style>\n",
       "<table border=\"1\" class=\"dataframe\">\n",
       "  <thead>\n",
       "    <tr style=\"text-align: right;\">\n",
       "      <th></th>\n",
       "      <th>AGER_TYP</th>\n",
       "      <th>ALTERSKATEGORIE_GROB</th>\n",
       "      <th>ANREDE_KZ</th>\n",
       "      <th>CJT_GESAMTTYP</th>\n",
       "      <th>FINANZ_MINIMALIST</th>\n",
       "      <th>FINANZ_SPARER</th>\n",
       "      <th>FINANZ_VORSORGER</th>\n",
       "      <th>FINANZ_ANLEGER</th>\n",
       "      <th>FINANZ_UNAUFFAELLIGER</th>\n",
       "      <th>FINANZ_HAUSBAUER</th>\n",
       "      <th>...</th>\n",
       "      <th>PLZ8_ANTG1</th>\n",
       "      <th>PLZ8_ANTG2</th>\n",
       "      <th>PLZ8_ANTG3</th>\n",
       "      <th>PLZ8_ANTG4</th>\n",
       "      <th>PLZ8_BAUMAX</th>\n",
       "      <th>PLZ8_HHZ</th>\n",
       "      <th>PLZ8_GBZ</th>\n",
       "      <th>ARBEIT</th>\n",
       "      <th>ORTSGR_KLS9</th>\n",
       "      <th>RELAT_AB</th>\n",
       "    </tr>\n",
       "  </thead>\n",
       "  <tbody>\n",
       "    <tr>\n",
       "      <th>0</th>\n",
       "      <td>NaN</td>\n",
       "      <td>2.0</td>\n",
       "      <td>1</td>\n",
       "      <td>2.0</td>\n",
       "      <td>3</td>\n",
       "      <td>4</td>\n",
       "      <td>3</td>\n",
       "      <td>5</td>\n",
       "      <td>5</td>\n",
       "      <td>3</td>\n",
       "      <td>...</td>\n",
       "      <td>NaN</td>\n",
       "      <td>NaN</td>\n",
       "      <td>NaN</td>\n",
       "      <td>NaN</td>\n",
       "      <td>NaN</td>\n",
       "      <td>NaN</td>\n",
       "      <td>NaN</td>\n",
       "      <td>NaN</td>\n",
       "      <td>NaN</td>\n",
       "      <td>NaN</td>\n",
       "    </tr>\n",
       "    <tr>\n",
       "      <th>1</th>\n",
       "      <td>NaN</td>\n",
       "      <td>1.0</td>\n",
       "      <td>2</td>\n",
       "      <td>5.0</td>\n",
       "      <td>1</td>\n",
       "      <td>5</td>\n",
       "      <td>2</td>\n",
       "      <td>5</td>\n",
       "      <td>4</td>\n",
       "      <td>5</td>\n",
       "      <td>...</td>\n",
       "      <td>2.0</td>\n",
       "      <td>3.0</td>\n",
       "      <td>2.0</td>\n",
       "      <td>1.0</td>\n",
       "      <td>1.0</td>\n",
       "      <td>5.0</td>\n",
       "      <td>4.0</td>\n",
       "      <td>3.0</td>\n",
       "      <td>5.0</td>\n",
       "      <td>4.0</td>\n",
       "    </tr>\n",
       "    <tr>\n",
       "      <th>2</th>\n",
       "      <td>NaN</td>\n",
       "      <td>3.0</td>\n",
       "      <td>2</td>\n",
       "      <td>3.0</td>\n",
       "      <td>1</td>\n",
       "      <td>4</td>\n",
       "      <td>1</td>\n",
       "      <td>2</td>\n",
       "      <td>3</td>\n",
       "      <td>5</td>\n",
       "      <td>...</td>\n",
       "      <td>3.0</td>\n",
       "      <td>3.0</td>\n",
       "      <td>1.0</td>\n",
       "      <td>0.0</td>\n",
       "      <td>1.0</td>\n",
       "      <td>4.0</td>\n",
       "      <td>4.0</td>\n",
       "      <td>3.0</td>\n",
       "      <td>5.0</td>\n",
       "      <td>2.0</td>\n",
       "    </tr>\n",
       "    <tr>\n",
       "      <th>3</th>\n",
       "      <td>2.0</td>\n",
       "      <td>4.0</td>\n",
       "      <td>2</td>\n",
       "      <td>2.0</td>\n",
       "      <td>4</td>\n",
       "      <td>2</td>\n",
       "      <td>5</td>\n",
       "      <td>2</td>\n",
       "      <td>1</td>\n",
       "      <td>2</td>\n",
       "      <td>...</td>\n",
       "      <td>2.0</td>\n",
       "      <td>2.0</td>\n",
       "      <td>2.0</td>\n",
       "      <td>0.0</td>\n",
       "      <td>1.0</td>\n",
       "      <td>3.0</td>\n",
       "      <td>4.0</td>\n",
       "      <td>2.0</td>\n",
       "      <td>3.0</td>\n",
       "      <td>3.0</td>\n",
       "    </tr>\n",
       "    <tr>\n",
       "      <th>4</th>\n",
       "      <td>NaN</td>\n",
       "      <td>3.0</td>\n",
       "      <td>1</td>\n",
       "      <td>5.0</td>\n",
       "      <td>4</td>\n",
       "      <td>3</td>\n",
       "      <td>4</td>\n",
       "      <td>1</td>\n",
       "      <td>3</td>\n",
       "      <td>2</td>\n",
       "      <td>...</td>\n",
       "      <td>2.0</td>\n",
       "      <td>4.0</td>\n",
       "      <td>2.0</td>\n",
       "      <td>1.0</td>\n",
       "      <td>2.0</td>\n",
       "      <td>3.0</td>\n",
       "      <td>3.0</td>\n",
       "      <td>4.0</td>\n",
       "      <td>6.0</td>\n",
       "      <td>5.0</td>\n",
       "    </tr>\n",
       "  </tbody>\n",
       "</table>\n",
       "<p>5 rows × 85 columns</p>\n",
       "</div>"
      ],
      "text/plain": [
       "   AGER_TYP  ALTERSKATEGORIE_GROB  ANREDE_KZ  CJT_GESAMTTYP  \\\n",
       "0       NaN                   2.0          1            2.0   \n",
       "1       NaN                   1.0          2            5.0   \n",
       "2       NaN                   3.0          2            3.0   \n",
       "3       2.0                   4.0          2            2.0   \n",
       "4       NaN                   3.0          1            5.0   \n",
       "\n",
       "   FINANZ_MINIMALIST  FINANZ_SPARER  FINANZ_VORSORGER  FINANZ_ANLEGER  \\\n",
       "0                  3              4                 3               5   \n",
       "1                  1              5                 2               5   \n",
       "2                  1              4                 1               2   \n",
       "3                  4              2                 5               2   \n",
       "4                  4              3                 4               1   \n",
       "\n",
       "   FINANZ_UNAUFFAELLIGER  FINANZ_HAUSBAUER    ...     PLZ8_ANTG1  PLZ8_ANTG2  \\\n",
       "0                      5                 3    ...            NaN         NaN   \n",
       "1                      4                 5    ...            2.0         3.0   \n",
       "2                      3                 5    ...            3.0         3.0   \n",
       "3                      1                 2    ...            2.0         2.0   \n",
       "4                      3                 2    ...            2.0         4.0   \n",
       "\n",
       "   PLZ8_ANTG3  PLZ8_ANTG4  PLZ8_BAUMAX  PLZ8_HHZ  PLZ8_GBZ  ARBEIT  \\\n",
       "0         NaN         NaN          NaN       NaN       NaN     NaN   \n",
       "1         2.0         1.0          1.0       5.0       4.0     3.0   \n",
       "2         1.0         0.0          1.0       4.0       4.0     3.0   \n",
       "3         2.0         0.0          1.0       3.0       4.0     2.0   \n",
       "4         2.0         1.0          2.0       3.0       3.0     4.0   \n",
       "\n",
       "   ORTSGR_KLS9  RELAT_AB  \n",
       "0          NaN       NaN  \n",
       "1          5.0       4.0  \n",
       "2          5.0       2.0  \n",
       "3          3.0       3.0  \n",
       "4          6.0       5.0  \n",
       "\n",
       "[5 rows x 85 columns]"
      ]
     },
     "execution_count": 8,
     "metadata": {},
     "output_type": "execute_result"
    }
   ],
   "source": [
    "print(azdias[azdias['CAMEO_DEU_2015']=='XX'].count())\n",
    "\n",
    "azdias.head()"
   ]
  },
  {
   "cell_type": "markdown",
   "metadata": {},
   "source": [
    "#### Step 1.1.2: Assess Missing Data in Each Column\n",
    "\n",
    "How much missing data is present in each column? There are a few columns that are outliers in terms of the proportion of values that are missing. You will want to use matplotlib's [`hist()`](https://matplotlib.org/api/_as_gen/matplotlib.pyplot.hist.html) function to visualize the distribution of missing value counts to find these columns. Identify and document these columns. While some of these columns might have justifications for keeping or re-encoding the data, for this project you should just remove them from the dataframe. (Feel free to make remarks about these outlier columns in the discussion, however!)\n",
    "\n",
    "For the remaining features, are there any patterns in which columns have, or share, missing data?"
   ]
  },
  {
   "cell_type": "code",
   "execution_count": 9,
   "metadata": {},
   "outputs": [
    {
     "name": "stdout",
     "output_type": "stream",
     "text": [
      "TITEL_KZ                 889061\n",
      "AGER_TYP                 685843\n",
      "KK_KUNDENTYP             584612\n",
      "KBA05_BAUMAX             476524\n",
      "GEBURTSJAHR              392318\n",
      "ALTER_HH                 310267\n",
      "REGIOTYP                 158064\n",
      "KKK                      158064\n",
      "W_KEIT_KIND_HH           147988\n",
      "KBA05_ANTG4              133324\n",
      "KBA05_GBZ                133324\n",
      "MOBI_REGIO               133324\n",
      "KBA05_ANTG1              133324\n",
      "KBA05_ANTG2              133324\n",
      "KBA05_ANTG3              133324\n",
      "PLZ8_GBZ                 116515\n",
      "PLZ8_HHZ                 116515\n",
      "PLZ8_BAUMAX              116515\n",
      "PLZ8_ANTG4               116515\n",
      "PLZ8_ANTG1               116515\n",
      "PLZ8_ANTG3               116515\n",
      "PLZ8_ANTG2               116515\n",
      "SHOPPER_TYP              111196\n",
      "VERS_TYP                 111196\n",
      "HEALTH_TYP               111196\n",
      "NATIONALITAET_KZ         108315\n",
      "PRAEGENDE_JUGENDJAHRE    108164\n",
      "KBA13_ANZAHL_PKW         105800\n",
      "ANZ_HAUSHALTE_AKTIV       99611\n",
      "CAMEO_INTL_2015           99352\n",
      "                          ...  \n",
      "RETOURTYP_BK_S             4854\n",
      "ONLINE_AFFINITAET          4854\n",
      "LP_STATUS_FEIN             4854\n",
      "LP_STATUS_GROB             4854\n",
      "GFK_URLAUBERTYP            4854\n",
      "ALTERSKATEGORIE_GROB       2881\n",
      "FINANZTYP                     0\n",
      "GREEN_AVANTGARDE              0\n",
      "FINANZ_HAUSBAUER              0\n",
      "FINANZ_UNAUFFAELLIGER         0\n",
      "FINANZ_ANLEGER                0\n",
      "FINANZ_SPARER                 0\n",
      "FINANZ_MINIMALIST             0\n",
      "ANREDE_KZ                     0\n",
      "FINANZ_VORSORGER              0\n",
      "SEMIO_FAM                     0\n",
      "SEMIO_SOZ                     0\n",
      "SEMIO_REL                     0\n",
      "SEMIO_MAT                     0\n",
      "SEMIO_VERT                    0\n",
      "SEMIO_LUST                    0\n",
      "SEMIO_ERL                     0\n",
      "SEMIO_KULT                    0\n",
      "SEMIO_RAT                     0\n",
      "SEMIO_KRIT                    0\n",
      "SEMIO_DOM                     0\n",
      "SEMIO_KAEM                    0\n",
      "SEMIO_PFLICHT                 0\n",
      "SEMIO_TRADV                   0\n",
      "ZABEOTYP                      0\n",
      "Length: 85, dtype: int64\n"
     ]
    }
   ],
   "source": [
    "# Perform an assessment of how much missing data there is in each column of the\n",
    "# dataset.\n",
    "print(azdias.isnull().sum().sort_values(ascending=False))"
   ]
  },
  {
   "cell_type": "code",
   "execution_count": 10,
   "metadata": {},
   "outputs": [
    {
     "data": {
      "text/plain": [
       "<matplotlib.axes._subplots.AxesSubplot at 0x7f96724ec2b0>"
      ]
     },
     "execution_count": 10,
     "metadata": {},
     "output_type": "execute_result"
    },
    {
     "data": {
      "image/png": "[encoded data removed]",
      "text/plain": [
       "<matplotlib.figure.Figure at 0x7f96725f7fd0>"
      ]
     },
     "metadata": {
      "needs_background": "light"
     },
     "output_type": "display_data"
    }
   ],
   "source": [
    "# Investigate patterns in the amount of missing data in each column.\n",
    "azdias.isnull().sum().hist()"
   ]
  },
  {
   "cell_type": "code",
   "execution_count": 11,
   "metadata": {},
   "outputs": [],
   "source": [
    "#to remove targets\n",
    "drop_columns = list(azdias.isnull().sum()[azdias.isnull().sum()>300000].index)"
   ]
  },
  {
   "cell_type": "code",
   "execution_count": 12,
   "metadata": {},
   "outputs": [],
   "source": [
    "# Remove the outlier columns from the dataset. (You'll perform other data\n",
    "# engineering tasks such as re-encoding and imputation later.)\n",
    "\n",
    "azdias.drop(drop_columns, axis='columns', inplace=True)"
   ]
  },
  {
   "cell_type": "code",
   "execution_count": 13,
   "metadata": {},
   "outputs": [
    {
     "data": {
      "text/plain": [
       "(891221, 79)"
      ]
     },
     "execution_count": 13,
     "metadata": {},
     "output_type": "execute_result"
    }
   ],
   "source": [
    "azdias.shape  #reduced from 85 to 79 cols"
   ]
  },
  {
   "cell_type": "code",
   "execution_count": 14,
   "metadata": {},
   "outputs": [
    {
     "data": {
      "text/html": [
       "<div>\n",
       "<style scoped>\n",
       "    .dataframe tbody tr th:only-of-type {\n",
       "        vertical-align: middle;\n",
       "    }\n",
       "\n",
       "    .dataframe tbody tr th {\n",
       "        vertical-align: top;\n",
       "    }\n",
       "\n",
       "    .dataframe thead th {\n",
       "        text-align: right;\n",
       "    }\n",
       "</style>\n",
       "<table border=\"1\" class=\"dataframe\">\n",
       "  <thead>\n",
       "    <tr style=\"text-align: right;\">\n",
       "      <th></th>\n",
       "      <th>ALTERSKATEGORIE_GROB</th>\n",
       "      <th>ANREDE_KZ</th>\n",
       "      <th>CJT_GESAMTTYP</th>\n",
       "      <th>FINANZ_MINIMALIST</th>\n",
       "      <th>FINANZ_SPARER</th>\n",
       "      <th>FINANZ_VORSORGER</th>\n",
       "      <th>FINANZ_ANLEGER</th>\n",
       "      <th>FINANZ_UNAUFFAELLIGER</th>\n",
       "      <th>FINANZ_HAUSBAUER</th>\n",
       "      <th>FINANZTYP</th>\n",
       "      <th>...</th>\n",
       "      <th>PLZ8_ANTG1</th>\n",
       "      <th>PLZ8_ANTG2</th>\n",
       "      <th>PLZ8_ANTG3</th>\n",
       "      <th>PLZ8_ANTG4</th>\n",
       "      <th>PLZ8_BAUMAX</th>\n",
       "      <th>PLZ8_HHZ</th>\n",
       "      <th>PLZ8_GBZ</th>\n",
       "      <th>ARBEIT</th>\n",
       "      <th>ORTSGR_KLS9</th>\n",
       "      <th>RELAT_AB</th>\n",
       "    </tr>\n",
       "  </thead>\n",
       "  <tbody>\n",
       "    <tr>\n",
       "      <th>0</th>\n",
       "      <td>2.0</td>\n",
       "      <td>1</td>\n",
       "      <td>2.0</td>\n",
       "      <td>3</td>\n",
       "      <td>4</td>\n",
       "      <td>3</td>\n",
       "      <td>5</td>\n",
       "      <td>5</td>\n",
       "      <td>3</td>\n",
       "      <td>4</td>\n",
       "      <td>...</td>\n",
       "      <td>NaN</td>\n",
       "      <td>NaN</td>\n",
       "      <td>NaN</td>\n",
       "      <td>NaN</td>\n",
       "      <td>NaN</td>\n",
       "      <td>NaN</td>\n",
       "      <td>NaN</td>\n",
       "      <td>NaN</td>\n",
       "      <td>NaN</td>\n",
       "      <td>NaN</td>\n",
       "    </tr>\n",
       "  </tbody>\n",
       "</table>\n",
       "<p>1 rows × 79 columns</p>\n",
       "</div>"
      ],
      "text/plain": [
       "   ALTERSKATEGORIE_GROB  ANREDE_KZ  CJT_GESAMTTYP  FINANZ_MINIMALIST  \\\n",
       "0                   2.0          1            2.0                  3   \n",
       "\n",
       "   FINANZ_SPARER  FINANZ_VORSORGER  FINANZ_ANLEGER  FINANZ_UNAUFFAELLIGER  \\\n",
       "0              4                 3               5                      5   \n",
       "\n",
       "   FINANZ_HAUSBAUER  FINANZTYP    ...     PLZ8_ANTG1  PLZ8_ANTG2  PLZ8_ANTG3  \\\n",
       "0                 3          4    ...            NaN         NaN         NaN   \n",
       "\n",
       "   PLZ8_ANTG4  PLZ8_BAUMAX  PLZ8_HHZ  PLZ8_GBZ  ARBEIT  ORTSGR_KLS9  RELAT_AB  \n",
       "0         NaN          NaN       NaN       NaN     NaN          NaN       NaN  \n",
       "\n",
       "[1 rows x 79 columns]"
      ]
     },
     "execution_count": 14,
     "metadata": {},
     "output_type": "execute_result"
    }
   ],
   "source": [
    "azdias.head(1)"
   ]
  },
  {
   "cell_type": "markdown",
   "metadata": {},
   "source": [
    "#### Discussion 1.1.2: Assess Missing Data in Each Column\n",
    "\n",
    "We have about 50 columns that contains missing values (nan) <br>\n",
    "We removed the columns which nan values exceed 300,000 rows since we found cols above that value groups up in a pattern"
   ]
  },
  {
   "cell_type": "markdown",
   "metadata": {},
   "source": [
    "#### Step 1.1.3: Assess Missing Data in Each Row\n",
    "\n",
    "Now, you'll perform a similar assessment for the rows of the dataset. How much data is missing in each row? As with the columns, you should see some groups of points that have a very different numbers of missing values. Divide the data into two subsets: one for data points that are above some threshold for missing values, and a second subset for points below that threshold.\n",
    "\n",
    "In order to know what to do with the outlier rows, we should see if the distribution of data values on columns that are not missing data (or are missing very little data) are similar or different between the two groups. Select at least five of these columns and compare the distribution of values.\n",
    "- You can use seaborn's [`countplot()`](https://seaborn.pydata.org/generated/seaborn.countplot.html) function to create a bar chart of code frequencies and matplotlib's [`subplot()`](https://matplotlib.org/api/_as_gen/matplotlib.pyplot.subplot.html) function to put bar charts for the two subplots side by side.\n",
    "- To reduce repeated code, you might want to write a function that can perform this comparison, taking as one of its arguments a column to be compared.\n",
    "\n",
    "Depending on what you observe in your comparison, this will have implications on how you approach your conclusions later in the analysis. If the distributions of non-missing features look similar between the data with many missing values and the data with few or no missing values, then we could argue that simply dropping those points from the analysis won't present a major issue. On the other hand, if the data with many missing values looks very different from the data with few or no missing values, then we should make a note on those data as special. We'll revisit these data later on. **Either way, you should continue your analysis for now using just the subset of the data with few or no missing values.**"
   ]
  },
  {
   "cell_type": "code",
   "execution_count": 15,
   "metadata": {},
   "outputs": [
    {
     "data": {
      "text/plain": [
       "0         43\n",
       "1          0\n",
       "2          0\n",
       "3          7\n",
       "4          0\n",
       "5          0\n",
       "6          0\n",
       "7          0\n",
       "8          0\n",
       "9          0\n",
       "10         0\n",
       "11        47\n",
       "12         6\n",
       "13         8\n",
       "14        47\n",
       "15         8\n",
       "16         6\n",
       "17        47\n",
       "18         3\n",
       "19         0\n",
       "20        10\n",
       "21         0\n",
       "22         0\n",
       "23         8\n",
       "24        47\n",
       "25         5\n",
       "26        19\n",
       "27         0\n",
       "28         0\n",
       "29         2\n",
       "          ..\n",
       "891191     0\n",
       "891192     0\n",
       "891193     0\n",
       "891194     0\n",
       "891195     0\n",
       "891196     0\n",
       "891197     0\n",
       "891198     0\n",
       "891199     0\n",
       "891200     0\n",
       "891201     0\n",
       "891202     0\n",
       "891203    14\n",
       "891204     0\n",
       "891205     0\n",
       "891206     0\n",
       "891207     0\n",
       "891208     3\n",
       "891209     0\n",
       "891210     0\n",
       "891211     0\n",
       "891212     0\n",
       "891213     0\n",
       "891214     0\n",
       "891215     0\n",
       "891216     3\n",
       "891217     4\n",
       "891218     5\n",
       "891219     0\n",
       "891220     0\n",
       "Length: 891221, dtype: int64"
      ]
     },
     "execution_count": 15,
     "metadata": {},
     "output_type": "execute_result"
    }
   ],
   "source": [
    "# How much data is missing in each row of the dataset?\n",
    "azdias.shape[1] - azdias.count(axis=1)"
   ]
  },
  {
   "cell_type": "code",
   "execution_count": 16,
   "metadata": {},
   "outputs": [
    {
     "name": "stdout",
     "output_type": "stream",
     "text": [
      "Prcentage of dat missing in each row of datset:\n",
      " 643174    62.025316\n",
      "732775    62.025316\n",
      "472919    60.759494\n",
      "183108    59.493671\n",
      "139316    59.493671\n",
      "691141    59.493671\n",
      "691142    59.493671\n",
      "691171    59.493671\n",
      "691183    59.493671\n",
      "139332    59.493671\n",
      "691197    59.493671\n",
      "139323    59.493671\n",
      "691212    59.493671\n",
      "691122    59.493671\n",
      "139267    59.493671\n",
      "139255    59.493671\n",
      "139250    59.493671\n",
      "139248    59.493671\n",
      "139245    59.493671\n",
      "139243    59.493671\n",
      "691317    59.493671\n",
      "691129    59.493671\n",
      "691118    59.493671\n",
      "139236    59.493671\n",
      "139478    59.493671\n",
      "690871    59.493671\n",
      "690876    59.493671\n",
      "690878    59.493671\n",
      "690887    59.493671\n",
      "139521    59.493671\n",
      "            ...    \n",
      "540246     0.000000\n",
      "540244     0.000000\n",
      "540243     0.000000\n",
      "540242     0.000000\n",
      "540241     0.000000\n",
      "540240     0.000000\n",
      "540239     0.000000\n",
      "540269     0.000000\n",
      "540271     0.000000\n",
      "540300     0.000000\n",
      "540289     0.000000\n",
      "540299     0.000000\n",
      "540298     0.000000\n",
      "540296     0.000000\n",
      "540295     0.000000\n",
      "540293     0.000000\n",
      "540292     0.000000\n",
      "540291     0.000000\n",
      "540290     0.000000\n",
      "540287     0.000000\n",
      "540273     0.000000\n",
      "540286     0.000000\n",
      "540284     0.000000\n",
      "540283     0.000000\n",
      "540281     0.000000\n",
      "540280     0.000000\n",
      "540277     0.000000\n",
      "540275     0.000000\n",
      "540274     0.000000\n",
      "445610     0.000000\n",
      "Length: 891221, dtype: float64\n"
     ]
    },
    {
     "data": {
      "image/png": "[encoded data removed]",
      "text/plain": [
       "<matplotlib.figure.Figure at 0x7f966ff9c048>"
      ]
     },
     "metadata": {
      "needs_background": "light"
     },
     "output_type": "display_data"
    }
   ],
   "source": [
    "# Write code to divide the data into two subsets based on the number of missing\n",
    "# values in each row.\n",
    "azdias_row_null_percent = azdias.isnull().sum(axis =1)/azdias.shape[1]*100\n",
    "print('Prcentage of dat missing in each row of datset:\\n', azdias_row_null_percent.sort_values(ascending=False))\n",
    "plt.hist(azdias_row_null_percent)\n",
    "plt.title('percentage of missing values for each row')\n",
    "plt.show()"
   ]
  },
  {
   "cell_type": "code",
   "execution_count": null,
   "metadata": {},
   "outputs": [],
   "source": []
  },
  {
   "cell_type": "code",
   "execution_count": 17,
   "metadata": {},
   "outputs": [],
   "source": [
    "azdias_rows=azdias.copy()\n",
    "azdias_rows['Na-count-rows']=azdias_row_null_percent.values"
   ]
  },
  {
   "cell_type": "code",
   "execution_count": 18,
   "metadata": {},
   "outputs": [
    {
     "data": {
      "text/html": [
       "<div>\n",
       "<style scoped>\n",
       "    .dataframe tbody tr th:only-of-type {\n",
       "        vertical-align: middle;\n",
       "    }\n",
       "\n",
       "    .dataframe tbody tr th {\n",
       "        vertical-align: top;\n",
       "    }\n",
       "\n",
       "    .dataframe thead th {\n",
       "        text-align: right;\n",
       "    }\n",
       "</style>\n",
       "<table border=\"1\" class=\"dataframe\">\n",
       "  <thead>\n",
       "    <tr style=\"text-align: right;\">\n",
       "      <th></th>\n",
       "      <th>ALTERSKATEGORIE_GROB</th>\n",
       "      <th>ANREDE_KZ</th>\n",
       "      <th>CJT_GESAMTTYP</th>\n",
       "      <th>FINANZ_MINIMALIST</th>\n",
       "      <th>FINANZ_SPARER</th>\n",
       "      <th>FINANZ_VORSORGER</th>\n",
       "      <th>FINANZ_ANLEGER</th>\n",
       "      <th>FINANZ_UNAUFFAELLIGER</th>\n",
       "      <th>FINANZ_HAUSBAUER</th>\n",
       "      <th>FINANZTYP</th>\n",
       "      <th>...</th>\n",
       "      <th>PLZ8_ANTG2</th>\n",
       "      <th>PLZ8_ANTG3</th>\n",
       "      <th>PLZ8_ANTG4</th>\n",
       "      <th>PLZ8_BAUMAX</th>\n",
       "      <th>PLZ8_HHZ</th>\n",
       "      <th>PLZ8_GBZ</th>\n",
       "      <th>ARBEIT</th>\n",
       "      <th>ORTSGR_KLS9</th>\n",
       "      <th>RELAT_AB</th>\n",
       "      <th>Na-count-rows</th>\n",
       "    </tr>\n",
       "  </thead>\n",
       "  <tbody>\n",
       "    <tr>\n",
       "      <th>0</th>\n",
       "      <td>2.0</td>\n",
       "      <td>1</td>\n",
       "      <td>2.0</td>\n",
       "      <td>3</td>\n",
       "      <td>4</td>\n",
       "      <td>3</td>\n",
       "      <td>5</td>\n",
       "      <td>5</td>\n",
       "      <td>3</td>\n",
       "      <td>4</td>\n",
       "      <td>...</td>\n",
       "      <td>NaN</td>\n",
       "      <td>NaN</td>\n",
       "      <td>NaN</td>\n",
       "      <td>NaN</td>\n",
       "      <td>NaN</td>\n",
       "      <td>NaN</td>\n",
       "      <td>NaN</td>\n",
       "      <td>NaN</td>\n",
       "      <td>NaN</td>\n",
       "      <td>54.43038</td>\n",
       "    </tr>\n",
       "  </tbody>\n",
       "</table>\n",
       "<p>1 rows × 80 columns</p>\n",
       "</div>"
      ],
      "text/plain": [
       "   ALTERSKATEGORIE_GROB  ANREDE_KZ  CJT_GESAMTTYP  FINANZ_MINIMALIST  \\\n",
       "0                   2.0          1            2.0                  3   \n",
       "\n",
       "   FINANZ_SPARER  FINANZ_VORSORGER  FINANZ_ANLEGER  FINANZ_UNAUFFAELLIGER  \\\n",
       "0              4                 3               5                      5   \n",
       "\n",
       "   FINANZ_HAUSBAUER  FINANZTYP      ...        PLZ8_ANTG2  PLZ8_ANTG3  \\\n",
       "0                 3          4      ...               NaN         NaN   \n",
       "\n",
       "   PLZ8_ANTG4  PLZ8_BAUMAX  PLZ8_HHZ  PLZ8_GBZ  ARBEIT  ORTSGR_KLS9  RELAT_AB  \\\n",
       "0         NaN          NaN       NaN       NaN     NaN          NaN       NaN   \n",
       "\n",
       "   Na-count-rows  \n",
       "0       54.43038  \n",
       "\n",
       "[1 rows x 80 columns]"
      ]
     },
     "execution_count": 18,
     "metadata": {},
     "output_type": "execute_result"
    }
   ],
   "source": [
    "azdias_rows.head(1)"
   ]
  },
  {
   "cell_type": "code",
   "execution_count": 19,
   "metadata": {},
   "outputs": [],
   "source": [
    "# get rid rows with more than 4 missing values\n",
    "azdias = azdias[azdias.isnull().sum(axis=1) <= 4]"
   ]
  },
  {
   "cell_type": "code",
   "execution_count": 20,
   "metadata": {},
   "outputs": [],
   "source": [
    "#i got help with this i didn't do this on my own   with the help of udacity mentor Q and A section\n",
    "# we will split data into two based on standard deviation =~ 20    \n",
    "azdias_rows_split1 = azdias_rows[azdias_rows['Na-count-rows'] <=20].drop(columns = 'Na-count-rows')  \n",
    "azdias__rows_split2 = azdias_rows[azdias_rows['Na-count-rows'] >20].drop(columns = 'Na-count-rows')"
   ]
  },
  {
   "cell_type": "code",
   "execution_count": 21,
   "metadata": {},
   "outputs": [
    {
     "data": {
      "text/html": [
       "<div>\n",
       "<style scoped>\n",
       "    .dataframe tbody tr th:only-of-type {\n",
       "        vertical-align: middle;\n",
       "    }\n",
       "\n",
       "    .dataframe tbody tr th {\n",
       "        vertical-align: top;\n",
       "    }\n",
       "\n",
       "    .dataframe thead th {\n",
       "        text-align: right;\n",
       "    }\n",
       "</style>\n",
       "<table border=\"1\" class=\"dataframe\">\n",
       "  <thead>\n",
       "    <tr style=\"text-align: right;\">\n",
       "      <th></th>\n",
       "      <th>col_name</th>\n",
       "      <th>num_of_nan</th>\n",
       "    </tr>\n",
       "  </thead>\n",
       "  <tbody>\n",
       "    <tr>\n",
       "      <th>39</th>\n",
       "      <td>ZABEOTYP</td>\n",
       "      <td>0</td>\n",
       "    </tr>\n",
       "    <tr>\n",
       "      <th>30</th>\n",
       "      <td>SEMIO_RAT</td>\n",
       "      <td>0</td>\n",
       "    </tr>\n",
       "    <tr>\n",
       "      <th>32</th>\n",
       "      <td>SEMIO_DOM</td>\n",
       "      <td>0</td>\n",
       "    </tr>\n",
       "    <tr>\n",
       "      <th>33</th>\n",
       "      <td>SEMIO_KAEM</td>\n",
       "      <td>0</td>\n",
       "    </tr>\n",
       "    <tr>\n",
       "      <th>34</th>\n",
       "      <td>SEMIO_PFLICHT</td>\n",
       "      <td>0</td>\n",
       "    </tr>\n",
       "  </tbody>\n",
       "</table>\n",
       "</div>"
      ],
      "text/plain": [
       "         col_name  num_of_nan\n",
       "39       ZABEOTYP           0\n",
       "30      SEMIO_RAT           0\n",
       "32      SEMIO_DOM           0\n",
       "33     SEMIO_KAEM           0\n",
       "34  SEMIO_PFLICHT           0"
      ]
     },
     "execution_count": 21,
     "metadata": {},
     "output_type": "execute_result"
    }
   ],
   "source": [
    "\n",
    "NullsEachCol= azdias.isnull().sum(axis = 0)\n",
    "\n",
    "\n",
    "col1=list(NullsEachCol.index)\n",
    "col2=list(NullsEachCol)\n",
    "NullsEachCol=pd.DataFrame(list(zip(col1, col2)),\n",
    "               columns =['col_name', 'num_of_nan'])\n",
    "NullsEachCol=NullsEachCol.sort_values(by='num_of_nan', ascending=True)\n",
    "NullsEachCol.head(5)"
   ]
  },
  {
   "cell_type": "code",
   "execution_count": 22,
   "metadata": {},
   "outputs": [
    {
     "data": {
      "text/plain": [
       "['ZABEOTYP', 'SEMIO_RAT', 'SEMIO_DOM', 'SEMIO_KAEM', 'SEMIO_PFLICHT']"
      ]
     },
     "execution_count": 22,
     "metadata": {},
     "output_type": "execute_result"
    }
   ],
   "source": [
    "# Compare the distribution of values for at least five columns where there are\n",
    "# no or few missing values, between the two subsets.\n",
    "\n",
    "def comparison_fun(df1,df2,column):\n",
    "    fig,ax = plt.subplots(1,2)\n",
    "    sns.countplot(df1[column],ax=ax[0])\n",
    "    sns.countplot(df2[column],ax=ax[1])\n",
    "    plt.subplots_adjust(wspace=0.5)\n",
    "    fig.show()\n",
    "    return\n",
    "\n",
    "five_columns = NullsEachCol.iloc[:5,0:1].values.flatten().tolist()\n",
    "five_columns"
   ]
  },
  {
   "cell_type": "code",
   "execution_count": 23,
   "metadata": {},
   "outputs": [
    {
     "name": "stderr",
     "output_type": "stream",
     "text": [
      "/opt/conda/lib/python3.6/site-packages/matplotlib/figure.py:418: UserWarning: matplotlib is currently using a non-GUI backend, so cannot show the figure\n",
      "  \"matplotlib is currently using a non-GUI backend, \"\n"
     ]
    },
    {
     "data": {
      "image/png": "[encoded data removed]",
      "text/plain": [
       "<matplotlib.figure.Figure at 0x7f96724ffa58>"
      ]
     },
     "metadata": {
      "needs_background": "light"
     },
     "output_type": "display_data"
    },
    {
     "data": {
      "image/png": "[encoded data removed]",
      "text/plain": [
       "<matplotlib.figure.Figure at 0x7f966fc20c18>"
      ]
     },
     "metadata": {
      "needs_background": "light"
     },
     "output_type": "display_data"
    },
    {
     "data": {
      "image/png": "[encoded data removed]",
      "text/plain": [
       "<matplotlib.figure.Figure at 0x7f966fbc5d68>"
      ]
     },
     "metadata": {
      "needs_background": "light"
     },
     "output_type": "display_data"
    },
    {
     "data": {
      "image/png": "[encoded data removed]",
      "text/plain": [
       "<matplotlib.figure.Figure at 0x7f966faf51d0>"
      ]
     },
     "metadata": {
      "needs_background": "light"
     },
     "output_type": "display_data"
    },
    {
     "data": {
      "image/png": "[encoded data removed]",
      "text/plain": [
       "<matplotlib.figure.Figure at 0x7f966fa45160>"
      ]
     },
     "metadata": {
      "needs_background": "light"
     },
     "output_type": "display_data"
    }
   ],
   "source": [
    "for col in five_columns:\n",
    "    comparison_fun(azdias_rows_split1,azdias__rows_split2,col)"
   ]
  },
  {
   "cell_type": "markdown",
   "metadata": {},
   "source": [
    "#### Discussion 1.1.3: Assess Missing Data in Each Row\n",
    "\n",
    "The data with lots of missing values are qualitatively different from data with few or no missing values"
   ]
  },
  {
   "cell_type": "markdown",
   "metadata": {},
   "source": [
    "### Step 1.2: Select and Re-Encode Features\n",
    "\n",
    "Checking for missing data isn't the only way in which you can prepare a dataset for analysis. Since the unsupervised learning techniques to be used will only work on data that is encoded numerically, you need to make a few encoding changes or additional assumptions to be able to make progress. In addition, while almost all of the values in the dataset are encoded using numbers, not all of them represent numeric values. Check the third column of the feature summary (`feat_info`) for a summary of types of measurement.\n",
    "- For numeric and interval data, these features can be kept without changes.\n",
    "- Most of the variables in the dataset are ordinal in nature. While ordinal values may technically be non-linear in spacing, make the simplifying assumption that the ordinal variables can be treated as being interval in nature (that is, kept without any changes).\n",
    "- Special handling may be necessary for the remaining two variable types: categorical, and 'mixed'.\n",
    "\n",
    "In the first two parts of this sub-step, you will perform an investigation of the categorical and mixed-type features and make a decision on each of them, whether you will keep, drop, or re-encode each. Then, in the last part, you will create a new data frame with only the selected and engineered columns.\n",
    "\n",
    "Data wrangling is often the trickiest part of the data analysis process, and there's a lot of it to be done here. But stick with it: once you're done with this step, you'll be ready to get to the machine learning parts of the project!"
   ]
  },
  {
   "cell_type": "code",
   "execution_count": 24,
   "metadata": {
    "scrolled": true
   },
   "outputs": [
    {
     "data": {
      "text/plain": [
       "ordinal        49\n",
       "categorical    21\n",
       "mixed           7\n",
       "numeric         7\n",
       "interval        1\n",
       "Name: type, dtype: int64"
      ]
     },
     "execution_count": 24,
     "metadata": {},
     "output_type": "execute_result"
    }
   ],
   "source": [
    "# How many features are there of each data type?\n",
    "\n",
    "feat_info['type'].value_counts()\n",
    "\n",
    "#upcoming targets to re-encode\n",
    "#categorical    21\n",
    "#mixed           7"
   ]
  },
  {
   "cell_type": "markdown",
   "metadata": {},
   "source": [
    "#### Step 1.2.1: Re-Encode Categorical Features\n",
    "\n",
    "For categorical data, you would ordinarily need to encode the levels as dummy variables. Depending on the number of categories, perform one of the following:\n",
    "- For binary (two-level) categoricals that take numeric values, you can keep them without needing to do anything.\n",
    "- There is one binary variable that takes on non-numeric values. For this one, you need to re-encode the values as numbers or create a dummy variable.\n",
    "- For multi-level categoricals (three or more values), you can choose to encode the values using multiple dummy variables (e.g. via [OneHotEncoder](http://scikit-learn.org/stable/modules/generated/sklearn.preprocessing.OneHotEncoder.html)), or (to keep things straightforward) just drop them from the analysis. As always, document your choices in the Discussion section."
   ]
  },
  {
   "cell_type": "code",
   "execution_count": null,
   "metadata": {},
   "outputs": [],
   "source": []
  },
  {
   "cell_type": "code",
   "execution_count": 25,
   "metadata": {},
   "outputs": [],
   "source": [
    "# Assess categorical variables: which are binary, which are multi-level, and\n",
    "# which one needs to be re-encoded?\n",
    "col_names_cat=[]\n",
    "for c in feat_info[feat_info['type']=='categorical'].values:\n",
    "    col_names_cat.append(c[0])\n",
    "    \n",
    "valid_selection=[]\n",
    "\n",
    "for col in azdias.columns:\n",
    "    if col in col_names_cat:\n",
    "        valid_selection.append(col)\n",
    "\n",
    "df=azdias[valid_selection]\n",
    "\n",
    "binary_features=[]\n",
    "multi_level_features=[]\n",
    "for col in df:\n",
    "    if len(df[col].dropna().unique()) ==2:\n",
    "        binary_features.append(col)\n",
    "    else:\n",
    "        multi_level_features.append(col)\n"
   ]
  },
  {
   "cell_type": "code",
   "execution_count": 26,
   "metadata": {},
   "outputs": [
    {
     "name": "stdout",
     "output_type": "stream",
     "text": [
      "['ANREDE_KZ', 'GREEN_AVANTGARDE', 'SOHO_KZ', 'VERS_TYP', 'OST_WEST_KZ']\n",
      "['CJT_GESAMTTYP', 'FINANZTYP', 'GFK_URLAUBERTYP', 'LP_FAMILIE_FEIN', 'LP_FAMILIE_GROB', 'LP_STATUS_FEIN', 'LP_STATUS_GROB', 'NATIONALITAET_KZ', 'SHOPPER_TYP', 'ZABEOTYP', 'GEBAEUDETYP', 'CAMEO_DEUG_2015', 'CAMEO_DEU_2015']\n"
     ]
    }
   ],
   "source": [
    "print(binary_features)\n",
    "print(multi_level_features)"
   ]
  },
  {
   "cell_type": "code",
   "execution_count": 27,
   "metadata": {},
   "outputs": [
    {
     "name": "stdout",
     "output_type": "stream",
     "text": [
      "ANREDE_KZ -> [2 1]\n",
      "GREEN_AVANTGARDE -> [0 1]\n",
      "SOHO_KZ -> [ 1.  0.]\n",
      "VERS_TYP -> [ 2.  1.]\n",
      "OST_WEST_KZ -> ['W' 'O']\n"
     ]
    }
   ],
   "source": [
    "for f in binary_features:\n",
    "    print(f,\"->\",azdias[f].dropna().unique())"
   ]
  },
  {
   "cell_type": "code",
   "execution_count": null,
   "metadata": {},
   "outputs": [],
   "source": []
  },
  {
   "cell_type": "code",
   "execution_count": 28,
   "metadata": {},
   "outputs": [],
   "source": [
    "# Re-encode categorical variable(s) to be kept in the analysis.\n",
    "binary_values = { 'O': 0,'W': 1}\n",
    "azdias = azdias.replace({'OST_WEST_KZ':binary_values})"
   ]
  },
  {
   "cell_type": "code",
   "execution_count": 29,
   "metadata": {},
   "outputs": [],
   "source": [
    "#getting rid of all multi_features since it will cause of an insane amount of columns if it gets hot encoded\n",
    "for f in multi_level_features:\n",
    "    azdias=azdias.drop(f, axis=1)"
   ]
  },
  {
   "cell_type": "code",
   "execution_count": 30,
   "metadata": {},
   "outputs": [
    {
     "data": {
      "text/plain": [
       "(697109, 66)"
      ]
     },
     "execution_count": 30,
     "metadata": {},
     "output_type": "execute_result"
    }
   ],
   "source": [
    "azdias.shape"
   ]
  },
  {
   "cell_type": "markdown",
   "metadata": {},
   "source": [
    "#### Discussion 1.2.1: Re-Encode Categorical Features\n",
    "The Binary features are ['ANREDE_KZ', 'GREEN_AVANTGARDE', 'SOHO_KZ', 'VERS_TYP', 'OST_WEST_KZ'] i had to modify OST_WEST_KZ to 0,1 since it contained strings =)\n",
    "<br>\n",
    "I decided to delete all of the multi level features since i can't bare having a dataset of an insane amount of dummy variables if I'm going to apply one hot encoding in the future"
   ]
  },
  {
   "cell_type": "markdown",
   "metadata": {},
   "source": [
    "#### Step 1.2.2: Engineer Mixed-Type Features\n",
    "\n",
    "There are a handful of features that are marked as \"mixed\" in the feature summary that require special treatment in order to be included in the analysis. There are two in particular that deserve attention; the handling of the rest are up to your own choices:\n",
    "- \"PRAEGENDE_JUGENDJAHRE\" combines information on three dimensions: generation by decade, movement (mainstream vs. avantgarde), and nation (east vs. west). While there aren't enough levels to disentangle east from west, you should create two new variables to capture the other two dimensions: an interval-type variable for decade, and a binary variable for movement.\n",
    "- \"CAMEO_INTL_2015\" combines information on two axes: wealth and life stage. Break up the two-digit codes by their 'tens'-place and 'ones'-place digits into two new ordinal variables (which, for the purposes of this project, is equivalent to just treating them as their raw numeric values).\n",
    "- If you decide to keep or engineer new features around the other mixed-type features, make sure you note your steps in the Discussion section.\n",
    "\n",
    "Be sure to check `Data_Dictionary.md` for the details needed to finish these tasks."
   ]
  },
  {
   "cell_type": "markdown",
   "metadata": {},
   "source": [
    "<h3>!!!!!!!!!!!! Step 1.2.2: Engineer Mixed-Type Feature !!!!!!!!!!</h3>\n",
    "<strong>In this section i was very confused so i got help from people asking questions in the knowledge section of udacity and forums related to this topic</strong>"
   ]
  },
  {
   "cell_type": "code",
   "execution_count": 31,
   "metadata": {},
   "outputs": [],
   "source": [
    "#create new columns from the base column PRAEGENDE_JUGENDJAHRE\n",
    "azdias['Movement'] = azdias['PRAEGENDE_JUGENDJAHRE']\n",
    "azdias['Decade'] = azdias['PRAEGENDE_JUGENDJAHRE']"
   ]
  },
  {
   "cell_type": "code",
   "execution_count": 32,
   "metadata": {},
   "outputs": [],
   "source": [
    "# Investigate \"PRAEGENDE_JUGENDJAHRE\" and engineer two new variables.\n",
    "#generation by decade, movement (mainstream vs. avantgarde), and nation (east vs. west).\n",
    "\n",
    "#getting the replacement values ready\n",
    "feature_movement= {1:1, 2:0, 3:1, 4:0, 5:1, 6:0, 7:0, 8:1, 9:0, 10:1, 11:0, 12:1, 13:0, 14:1, 15:0}\n",
    "feature_decade = {1:1, 2:1, 3:2, 4:2, 5:3, 6:3, 7:3, 8:4, 9:4, 10:5, 11:5, 12:5, 13:5, 14:6, 15:6}"
   ]
  },
  {
   "cell_type": "code",
   "execution_count": 33,
   "metadata": {},
   "outputs": [],
   "source": [
    "azdias['Movement'].replace(feature_movement, inplace=True)\n",
    "azdias['Decade'].replace(feature_decade, inplace=True)"
   ]
  },
  {
   "cell_type": "code",
   "execution_count": 34,
   "metadata": {},
   "outputs": [],
   "source": [
    "# Investigate \"CAMEO_INTL_2015\" and engineer two new variables.\n",
    "#life stage and wealth\n",
    "azdias['Wealth'] = azdias['CAMEO_INTL_2015']\n",
    "azdias['Life_stage'] = azdias['CAMEO_INTL_2015']"
   ]
  },
  {
   "cell_type": "code",
   "execution_count": 35,
   "metadata": {},
   "outputs": [],
   "source": [
    "#getting the replacement values ready\n",
    "feature_wealth = {'11':1, '12':1, '13':1, '14':1, '15':1, '21':2, '22':2, '23':2, '24':2, '25':2,\n",
    "               '31':3, '32':3, '33':3, '34':3, '35':3, '41':4, '42':4, '43':4, '44':4, '45':4,\n",
    "               '51':5, '52':5, '53':5, '54':5, '55':5} #1,2,3,4,5    5 categories\n",
    "\n",
    "feature_life_stage = {'11':1, '12':2, '13':3, '14':4, '15':5, '21':1, '22':2, '23':3, '24':4, '25':5,\n",
    "                   '31':1, '32':2, '33':3, '34':4, '35':5, '41':1, '42':2, '43':3, '44':4, '45':5,\n",
    "                   '51':1, '52':2, '53':3, '54':4, '55':5} #1,2,3,4,5    5 categories also"
   ]
  },
  {
   "cell_type": "code",
   "execution_count": 36,
   "metadata": {},
   "outputs": [],
   "source": [
    "azdias['Wealth'].replace(feature_wealth, inplace=True)\n",
    "azdias['Life_stage'].replace(feature_life_stage, inplace=True)"
   ]
  },
  {
   "cell_type": "code",
   "execution_count": 37,
   "metadata": {},
   "outputs": [],
   "source": [
    "col_names_mix=[]\n",
    "for c in feat_info[feat_info['type']=='mixed'].values:\n",
    "    col_names_mix.append(c[0])\n",
    "    \n",
    "valid_selection=[]\n",
    "\n",
    "for col in azdias.columns:\n",
    "    if col in col_names_mix:\n",
    "        valid_selection.append(col)"
   ]
  },
  {
   "cell_type": "code",
   "execution_count": 38,
   "metadata": {},
   "outputs": [
    {
     "data": {
      "text/plain": [
       "['LP_LEBENSPHASE_FEIN',\n",
       " 'LP_LEBENSPHASE_GROB',\n",
       " 'PRAEGENDE_JUGENDJAHRE',\n",
       " 'WOHNLAGE',\n",
       " 'CAMEO_INTL_2015',\n",
       " 'PLZ8_BAUMAX']"
      ]
     },
     "execution_count": 38,
     "metadata": {},
     "output_type": "execute_result"
    }
   ],
   "source": [
    "valid_selection  \n",
    "#columns to get rid of all these columns since we already split 2 needed columns and the rest of the columns are not needed"
   ]
  },
  {
   "cell_type": "code",
   "execution_count": 39,
   "metadata": {},
   "outputs": [],
   "source": [
    "for f in valid_selection:\n",
    "    azdias=azdias.drop(f, axis=1)"
   ]
  },
  {
   "cell_type": "code",
   "execution_count": 40,
   "metadata": {},
   "outputs": [
    {
     "data": {
      "text/plain": [
       "(697109, 64)"
      ]
     },
     "execution_count": 40,
     "metadata": {},
     "output_type": "execute_result"
    }
   ],
   "source": [
    "azdias.shape"
   ]
  },
  {
   "cell_type": "markdown",
   "metadata": {},
   "source": [
    "#### Discussion 1.2.2: Engineer Mixed-Type Features\n",
    "\n",
    "\n",
    "According to the notes you guys left i realised that the most important 2 would be \"CAMEO_INTL_2015\" and \"PRAEGENDE_JUGENDJAHRE\" so i kept and engineered it. <br>\n",
    "I choose the 2 mixed features i mentioned above then i decided to drop the remaining. <br>\n",
    "The engineering steps are:<br>\n",
    "*first i split each feature into two features (PRAEGENDE_JUGENDJAHRE into deacade and movement),(CAMEO_INTL_2015 into life stage and wealth) copied values from the initial mixed-value feature column<br>\n",
    "*second i did a replace operation using the dictionaries on the new feature columns"
   ]
  },
  {
   "cell_type": "markdown",
   "metadata": {},
   "source": [
    "#### Step 1.2.3: Complete Feature Selection\n",
    "\n",
    "In order to finish this step up, you need to make sure that your data frame now only has the columns that you want to keep. To summarize, the dataframe should consist of the following:\n",
    "- All numeric, interval, and ordinal type columns from the original dataset.\n",
    "- Binary categorical features (all numerically-encoded).\n",
    "- Engineered features from other multi-level categorical features and mixed features.\n",
    "\n",
    "Make sure that for any new columns that you have engineered, that you've excluded the original columns from the final dataset. Otherwise, their values will interfere with the analysis later on the project. For example, you should not keep \"PRAEGENDE_JUGENDJAHRE\", since its values won't be useful for the algorithm: only the values derived from it in the engineered features you created should be retained. As a reminder, your data should only be from **the subset with few or no missing values**."
   ]
  },
  {
   "cell_type": "code",
   "execution_count": 41,
   "metadata": {},
   "outputs": [],
   "source": [
    "# If there are other re-engineering tasks you need to perform, make sure you\n",
    "# take care of them here. (Dealing with missing data will come in step 2.1.)"
   ]
  },
  {
   "cell_type": "code",
   "execution_count": 42,
   "metadata": {},
   "outputs": [],
   "source": [
    "# Do whatever you need to in order to ensure that the dataframe only contains\n",
    "# the columns that should be passed to the algorithm functions."
   ]
  },
  {
   "cell_type": "markdown",
   "metadata": {},
   "source": [
    "### Step 1.3: Create a Cleaning Function\n",
    "\n",
    "Even though you've finished cleaning up the general population demographics data, it's important to look ahead to the future and realize that you'll need to perform the same cleaning steps on the customer demographics data. In this substep, complete the function below to execute the main feature selection, encoding, and re-engineering steps you performed above. Then, when it comes to looking at the customer data in Step 3, you can just run this function on that DataFrame to get the trimmed dataset in a single step."
   ]
  },
  {
   "cell_type": "code",
   "execution_count": 43,
   "metadata": {},
   "outputs": [],
   "source": [
    "def clean_data(data):\n",
    "    dataframe=data.copy()\n",
    "    #i copied the code above and pasted it here\n",
    "    \"\"\"\n",
    "    Perform feature trimming, re-encoding, and engineering for demographics\n",
    "    data\n",
    "    \n",
    "    INPUT: Demographics DataFrame\n",
    "    OUTPUT: Trimmed and cleaned demographics DataFrame\n",
    "    \"\"\"\n",
    "    \n",
    "    for index, row in feat_info.iterrows():\n",
    "        #print(row['attribute'], row['missing_or_unknown'])\n",
    "        targeted_col=row['attribute']\n",
    "        #print(type(targeted_col))\n",
    "        X='X'\n",
    "        XX='XX'\n",
    "        for val in eval(row['missing_or_unknown']):\n",
    "            try:\n",
    "                val=int(val)\n",
    "            except:\n",
    "                val=str(val)\n",
    "            finally:\n",
    "                dataframe[targeted_col].replace({val: np.nan}, inplace=True)     \n",
    "\t\t\n",
    "\n",
    "    drop_columns = list(dataframe.isnull().sum()[dataframe.isnull().sum()>300000].index)\n",
    "\n",
    "    dataframe.drop(drop_columns, axis='columns', inplace=True)\n",
    "\n",
    "    dataframe = dataframe[dataframe.isnull().sum(axis=1) <= 4]\n",
    "\n",
    "    col_names_cat=[]\n",
    "    for c in feat_info[feat_info['type']=='categorical'].values:\n",
    "        col_names_cat.append(c[0])\n",
    "\n",
    "    valid_selection=[]\n",
    "\n",
    "    for col in dataframe.columns:\n",
    "        if col in col_names_cat:\n",
    "            valid_selection.append(col)\n",
    "\n",
    "    df=dataframe[valid_selection]\n",
    "\n",
    "    binary_features=[]\n",
    "    multi_level_features=[]\n",
    "    for col in df:\n",
    "        if len(df[col].dropna().unique()) ==2:\n",
    "            binary_features.append(col)\n",
    "        else:\n",
    "            multi_level_features.append(col)\n",
    "\n",
    "\n",
    "    binary_values = { 'O': 0,'W': 1}\n",
    "    dataframe = dataframe.replace({'OST_WEST_KZ':binary_values})\n",
    "\n",
    "    for f in multi_level_features:\n",
    "        dataframe=dataframe.drop(f, axis=1)\n",
    "\n",
    "    dataframe['Movement'] = dataframe['PRAEGENDE_JUGENDJAHRE']\n",
    "    dataframe['Decade'] = dataframe['PRAEGENDE_JUGENDJAHRE']\n",
    "    feature_movement= {1:1, 2:0, 3:1, 4:0, 5:1, 6:0, 7:0, 8:1, 9:0, 10:1, 11:0, 12:1, 13:0, 14:1, 15:0}\n",
    "    feature_decade = {1:1, 2:1, 3:2, 4:2, 5:3, 6:3, 7:3, 8:4, 9:4, 10:5, 11:5, 12:5, 13:5, 14:6, 15:6}\n",
    "    dataframe['Movement'].replace(feature_movement, inplace=True)\n",
    "    dataframe['Decade'].replace(feature_decade, inplace=True)\n",
    "    dataframe['Wealth'] = dataframe['CAMEO_INTL_2015']\n",
    "    dataframe['Life_stage'] = dataframe['CAMEO_INTL_2015']\n",
    "    feature_wealth = {'11':1, '12':1, '13':1, '14':1, '15':1, '21':2, '22':2, '23':2, '24':2, '25':2,\n",
    "                   '31':3, '32':3, '33':3, '34':3, '35':3, '41':4, '42':4, '43':4, '44':4, '45':4,\n",
    "                   '51':5, '52':5, '53':5, '54':5, '55':5} #1,2,3,4,5    5 categories\n",
    "\n",
    "    feature_life_stage = {'11':1, '12':2, '13':3, '14':4, '15':5, '21':1, '22':2, '23':3, '24':4, '25':5,\n",
    "                       '31':1, '32':2, '33':3, '34':4, '35':5, '41':1, '42':2, '43':3, '44':4, '45':5,\n",
    "                       '51':1, '52':2, '53':3, '54':4, '55':5} #1,2,3,4,5    5 categories also\n",
    "\n",
    "    dataframe['Wealth'].replace(feature_wealth, inplace=True)\n",
    "    dataframe['Life_stage'].replace(feature_life_stage, inplace=True)\n",
    "\n",
    "    col_names_mix=[]\n",
    "    for c in feat_info[feat_info['type']=='mixed'].values:\n",
    "        col_names_mix.append(c[0])\n",
    "\n",
    "    valid_selection=[]\n",
    "\n",
    "    for col in dataframe.columns:\n",
    "        if col in col_names_mix:\n",
    "            valid_selection.append(col)\n",
    "\n",
    "    for f in valid_selection:\n",
    "        dataframe=dataframe.drop(f, axis=1)\n",
    "    \n",
    "    return dataframe\n",
    "    "
   ]
  },
  {
   "cell_type": "markdown",
   "metadata": {},
   "source": [
    "## Step 2: Feature Transformation\n",
    "\n",
    "### Step 2.1: Apply Feature Scaling\n",
    "\n",
    "Before we apply dimensionality reduction techniques to the data, we need to perform feature scaling so that the principal component vectors are not influenced by the natural differences in scale for features. Starting from this part of the project, you'll want to keep an eye on the [API reference page for sklearn](http://scikit-learn.org/stable/modules/classes.html) to help you navigate to all of the classes and functions that you'll need. In this substep, you'll need to check the following:\n",
    "\n",
    "- sklearn requires that data not have missing values in order for its estimators to work properly. So, before applying the scaler to your data, make sure that you've cleaned the DataFrame of the remaining missing values. This can be as simple as just removing all data points with missing data, or applying an [Imputer](https://scikit-learn.org/0.16/modules/generated/sklearn.preprocessing.Imputer.html) to replace all missing values. You might also try a more complicated procedure where you temporarily remove missing values in order to compute the scaling parameters before re-introducing those missing values and applying imputation. Think about how much missing data you have and what possible effects each approach might have on your analysis, and justify your decision in the discussion section below.\n",
    "- For the actual scaling function, a [StandardScaler](http://scikit-learn.org/stable/modules/generated/sklearn.preprocessing.StandardScaler.html) instance is suggested, scaling each feature to mean 0 and standard deviation 1.\n",
    "- For these classes, you can make use of the `.fit_transform()` method to both fit a procedure to the data as well as apply the transformation to the data at the same time. Don't forget to keep the fit sklearn objects handy, since you'll be applying them to the customer demographics data towards the end of the project."
   ]
  },
  {
   "cell_type": "code",
   "execution_count": 44,
   "metadata": {},
   "outputs": [],
   "source": [
    "azdias_original=azdias.copy()"
   ]
  },
  {
   "cell_type": "code",
   "execution_count": 45,
   "metadata": {},
   "outputs": [
    {
     "data": {
      "text/html": [
       "<div>\n",
       "<style scoped>\n",
       "    .dataframe tbody tr th:only-of-type {\n",
       "        vertical-align: middle;\n",
       "    }\n",
       "\n",
       "    .dataframe tbody tr th {\n",
       "        vertical-align: top;\n",
       "    }\n",
       "\n",
       "    .dataframe thead th {\n",
       "        text-align: right;\n",
       "    }\n",
       "</style>\n",
       "<table border=\"1\" class=\"dataframe\">\n",
       "  <thead>\n",
       "    <tr style=\"text-align: right;\">\n",
       "      <th></th>\n",
       "      <th>0</th>\n",
       "      <th>1</th>\n",
       "      <th>2</th>\n",
       "      <th>3</th>\n",
       "      <th>4</th>\n",
       "      <th>5</th>\n",
       "      <th>6</th>\n",
       "      <th>7</th>\n",
       "      <th>8</th>\n",
       "      <th>9</th>\n",
       "      <th>...</th>\n",
       "      <th>54</th>\n",
       "      <th>55</th>\n",
       "      <th>56</th>\n",
       "      <th>57</th>\n",
       "      <th>58</th>\n",
       "      <th>59</th>\n",
       "      <th>60</th>\n",
       "      <th>61</th>\n",
       "      <th>62</th>\n",
       "      <th>63</th>\n",
       "    </tr>\n",
       "  </thead>\n",
       "  <tbody>\n",
       "    <tr>\n",
       "      <th>0</th>\n",
       "      <td>1.0</td>\n",
       "      <td>2.0</td>\n",
       "      <td>1.0</td>\n",
       "      <td>5.0</td>\n",
       "      <td>2.0</td>\n",
       "      <td>5.0</td>\n",
       "      <td>4.0</td>\n",
       "      <td>5.0</td>\n",
       "      <td>0.0</td>\n",
       "      <td>3.0</td>\n",
       "      <td>...</td>\n",
       "      <td>1.0</td>\n",
       "      <td>5.0</td>\n",
       "      <td>4.0</td>\n",
       "      <td>3.0</td>\n",
       "      <td>5.0</td>\n",
       "      <td>4.0</td>\n",
       "      <td>1.0</td>\n",
       "      <td>6.0</td>\n",
       "      <td>5.0</td>\n",
       "      <td>1.0</td>\n",
       "    </tr>\n",
       "    <tr>\n",
       "      <th>1</th>\n",
       "      <td>3.0</td>\n",
       "      <td>2.0</td>\n",
       "      <td>1.0</td>\n",
       "      <td>4.0</td>\n",
       "      <td>1.0</td>\n",
       "      <td>2.0</td>\n",
       "      <td>3.0</td>\n",
       "      <td>5.0</td>\n",
       "      <td>1.0</td>\n",
       "      <td>3.0</td>\n",
       "      <td>...</td>\n",
       "      <td>0.0</td>\n",
       "      <td>4.0</td>\n",
       "      <td>4.0</td>\n",
       "      <td>3.0</td>\n",
       "      <td>5.0</td>\n",
       "      <td>2.0</td>\n",
       "      <td>0.0</td>\n",
       "      <td>6.0</td>\n",
       "      <td>2.0</td>\n",
       "      <td>4.0</td>\n",
       "    </tr>\n",
       "    <tr>\n",
       "      <th>2</th>\n",
       "      <td>3.0</td>\n",
       "      <td>1.0</td>\n",
       "      <td>4.0</td>\n",
       "      <td>3.0</td>\n",
       "      <td>4.0</td>\n",
       "      <td>1.0</td>\n",
       "      <td>3.0</td>\n",
       "      <td>2.0</td>\n",
       "      <td>0.0</td>\n",
       "      <td>3.0</td>\n",
       "      <td>...</td>\n",
       "      <td>1.0</td>\n",
       "      <td>3.0</td>\n",
       "      <td>3.0</td>\n",
       "      <td>4.0</td>\n",
       "      <td>6.0</td>\n",
       "      <td>5.0</td>\n",
       "      <td>1.0</td>\n",
       "      <td>4.0</td>\n",
       "      <td>4.0</td>\n",
       "      <td>3.0</td>\n",
       "    </tr>\n",
       "    <tr>\n",
       "      <th>3</th>\n",
       "      <td>1.0</td>\n",
       "      <td>2.0</td>\n",
       "      <td>3.0</td>\n",
       "      <td>1.0</td>\n",
       "      <td>5.0</td>\n",
       "      <td>2.0</td>\n",
       "      <td>2.0</td>\n",
       "      <td>5.0</td>\n",
       "      <td>0.0</td>\n",
       "      <td>3.0</td>\n",
       "      <td>...</td>\n",
       "      <td>1.0</td>\n",
       "      <td>5.0</td>\n",
       "      <td>5.0</td>\n",
       "      <td>2.0</td>\n",
       "      <td>3.0</td>\n",
       "      <td>3.0</td>\n",
       "      <td>1.0</td>\n",
       "      <td>2.0</td>\n",
       "      <td>5.0</td>\n",
       "      <td>4.0</td>\n",
       "    </tr>\n",
       "    <tr>\n",
       "      <th>4</th>\n",
       "      <td>2.0</td>\n",
       "      <td>2.0</td>\n",
       "      <td>1.0</td>\n",
       "      <td>5.0</td>\n",
       "      <td>1.0</td>\n",
       "      <td>5.0</td>\n",
       "      <td>4.0</td>\n",
       "      <td>3.0</td>\n",
       "      <td>0.0</td>\n",
       "      <td>2.0</td>\n",
       "      <td>...</td>\n",
       "      <td>0.0</td>\n",
       "      <td>5.0</td>\n",
       "      <td>5.0</td>\n",
       "      <td>4.0</td>\n",
       "      <td>6.0</td>\n",
       "      <td>3.0</td>\n",
       "      <td>1.0</td>\n",
       "      <td>5.0</td>\n",
       "      <td>2.0</td>\n",
       "      <td>2.0</td>\n",
       "    </tr>\n",
       "  </tbody>\n",
       "</table>\n",
       "<p>5 rows × 64 columns</p>\n",
       "</div>"
      ],
      "text/plain": [
       "    0    1    2    3    4    5    6    7    8    9  ...    54   55   56   57  \\\n",
       "0  1.0  2.0  1.0  5.0  2.0  5.0  4.0  5.0  0.0  3.0 ...   1.0  5.0  4.0  3.0   \n",
       "1  3.0  2.0  1.0  4.0  1.0  2.0  3.0  5.0  1.0  3.0 ...   0.0  4.0  4.0  3.0   \n",
       "2  3.0  1.0  4.0  3.0  4.0  1.0  3.0  2.0  0.0  3.0 ...   1.0  3.0  3.0  4.0   \n",
       "3  1.0  2.0  3.0  1.0  5.0  2.0  2.0  5.0  0.0  3.0 ...   1.0  5.0  5.0  2.0   \n",
       "4  2.0  2.0  1.0  5.0  1.0  5.0  4.0  3.0  0.0  2.0 ...   0.0  5.0  5.0  4.0   \n",
       "\n",
       "    58   59   60   61   62   63  \n",
       "0  5.0  4.0  1.0  6.0  5.0  1.0  \n",
       "1  5.0  2.0  0.0  6.0  2.0  4.0  \n",
       "2  6.0  5.0  1.0  4.0  4.0  3.0  \n",
       "3  3.0  3.0  1.0  2.0  5.0  4.0  \n",
       "4  6.0  3.0  1.0  5.0  2.0  2.0  \n",
       "\n",
       "[5 rows x 64 columns]"
      ]
     },
     "execution_count": 45,
     "metadata": {},
     "output_type": "execute_result"
    }
   ],
   "source": [
    "# If you've not yet cleaned the dataset of all NaN values, then investigate and\n",
    "# do that now.\n",
    "#https://scikit-learn.org/0.16/modules/generated/sklearn.preprocessing.Imputer.html\n",
    "from sklearn.preprocessing import Imputer\n",
    "im = Imputer(strategy='most_frequent')\n",
    "azdias = pd.DataFrame(im.fit_transform(azdias))\n",
    "azdias.head()"
   ]
  },
  {
   "cell_type": "code",
   "execution_count": 46,
   "metadata": {},
   "outputs": [],
   "source": [
    "# Apply feature scaling to the general population demographics data.\n",
    "from sklearn.preprocessing import StandardScaler\n",
    "sc = StandardScaler() \n",
    "azdias = sc.fit_transform(azdias)"
   ]
  },
  {
   "cell_type": "markdown",
   "metadata": {},
   "source": [
    "https://stackoverflow.com/questions/29586323/how-to-retain-column-headers-of-data-frame-after-pre-processing-in-scikit-learn"
   ]
  },
  {
   "cell_type": "code",
   "execution_count": 47,
   "metadata": {},
   "outputs": [],
   "source": [
    "azdias = pd.DataFrame(azdias, columns=list(azdias_original.columns)) #retain dataset with columns ;)"
   ]
  },
  {
   "cell_type": "code",
   "execution_count": 48,
   "metadata": {},
   "outputs": [],
   "source": [
    "li = [azdias_original]\n",
    "del azdias_original\n",
    "del li"
   ]
  },
  {
   "cell_type": "code",
   "execution_count": 49,
   "metadata": {},
   "outputs": [
    {
     "data": {
      "text/html": [
       "<div>\n",
       "<style scoped>\n",
       "    .dataframe tbody tr th:only-of-type {\n",
       "        vertical-align: middle;\n",
       "    }\n",
       "\n",
       "    .dataframe tbody tr th {\n",
       "        vertical-align: top;\n",
       "    }\n",
       "\n",
       "    .dataframe thead th {\n",
       "        text-align: right;\n",
       "    }\n",
       "</style>\n",
       "<table border=\"1\" class=\"dataframe\">\n",
       "  <thead>\n",
       "    <tr style=\"text-align: right;\">\n",
       "      <th></th>\n",
       "      <th>ALTERSKATEGORIE_GROB</th>\n",
       "      <th>ANREDE_KZ</th>\n",
       "      <th>FINANZ_MINIMALIST</th>\n",
       "      <th>FINANZ_SPARER</th>\n",
       "      <th>FINANZ_VORSORGER</th>\n",
       "      <th>FINANZ_ANLEGER</th>\n",
       "      <th>FINANZ_UNAUFFAELLIGER</th>\n",
       "      <th>FINANZ_HAUSBAUER</th>\n",
       "      <th>GREEN_AVANTGARDE</th>\n",
       "      <th>HEALTH_TYP</th>\n",
       "      <th>...</th>\n",
       "      <th>PLZ8_ANTG4</th>\n",
       "      <th>PLZ8_HHZ</th>\n",
       "      <th>PLZ8_GBZ</th>\n",
       "      <th>ARBEIT</th>\n",
       "      <th>ORTSGR_KLS9</th>\n",
       "      <th>RELAT_AB</th>\n",
       "      <th>Movement</th>\n",
       "      <th>Decade</th>\n",
       "      <th>Wealth</th>\n",
       "      <th>Life_stage</th>\n",
       "    </tr>\n",
       "  </thead>\n",
       "  <tbody>\n",
       "    <tr>\n",
       "      <th>0</th>\n",
       "      <td>-1.740726</td>\n",
       "      <td>0.969688</td>\n",
       "      <td>-1.522118</td>\n",
       "      <td>1.586768</td>\n",
       "      <td>-1.051497</td>\n",
       "      <td>1.515221</td>\n",
       "      <td>1.047789</td>\n",
       "      <td>1.338667</td>\n",
       "      <td>-0.541398</td>\n",
       "      <td>1.020222</td>\n",
       "      <td>...</td>\n",
       "      <td>0.404881</td>\n",
       "      <td>1.431222</td>\n",
       "      <td>0.566784</td>\n",
       "      <td>-0.189642</td>\n",
       "      <td>-0.138952</td>\n",
       "      <td>0.676228</td>\n",
       "      <td>0.541398</td>\n",
       "      <td>1.14253</td>\n",
       "      <td>1.165361</td>\n",
       "      <td>-1.251926</td>\n",
       "    </tr>\n",
       "    <tr>\n",
       "      <th>1</th>\n",
       "      <td>0.201942</td>\n",
       "      <td>0.969688</td>\n",
       "      <td>-1.522118</td>\n",
       "      <td>0.906946</td>\n",
       "      <td>-1.772674</td>\n",
       "      <td>-0.546081</td>\n",
       "      <td>0.320028</td>\n",
       "      <td>1.338667</td>\n",
       "      <td>1.847069</td>\n",
       "      <td>1.020222</td>\n",
       "      <td>...</td>\n",
       "      <td>-0.967350</td>\n",
       "      <td>0.400940</td>\n",
       "      <td>0.566784</td>\n",
       "      <td>-0.189642</td>\n",
       "      <td>-0.138952</td>\n",
       "      <td>-0.802264</td>\n",
       "      <td>-1.847069</td>\n",
       "      <td>1.14253</td>\n",
       "      <td>-0.877563</td>\n",
       "      <td>0.756098</td>\n",
       "    </tr>\n",
       "  </tbody>\n",
       "</table>\n",
       "<p>2 rows × 64 columns</p>\n",
       "</div>"
      ],
      "text/plain": [
       "   ALTERSKATEGORIE_GROB  ANREDE_KZ  FINANZ_MINIMALIST  FINANZ_SPARER  \\\n",
       "0             -1.740726   0.969688          -1.522118       1.586768   \n",
       "1              0.201942   0.969688          -1.522118       0.906946   \n",
       "\n",
       "   FINANZ_VORSORGER  FINANZ_ANLEGER  FINANZ_UNAUFFAELLIGER  FINANZ_HAUSBAUER  \\\n",
       "0         -1.051497        1.515221               1.047789          1.338667   \n",
       "1         -1.772674       -0.546081               0.320028          1.338667   \n",
       "\n",
       "   GREEN_AVANTGARDE  HEALTH_TYP     ...      PLZ8_ANTG4  PLZ8_HHZ  PLZ8_GBZ  \\\n",
       "0         -0.541398    1.020222     ...        0.404881  1.431222  0.566784   \n",
       "1          1.847069    1.020222     ...       -0.967350  0.400940  0.566784   \n",
       "\n",
       "     ARBEIT  ORTSGR_KLS9  RELAT_AB  Movement   Decade    Wealth  Life_stage  \n",
       "0 -0.189642    -0.138952  0.676228  0.541398  1.14253  1.165361   -1.251926  \n",
       "1 -0.189642    -0.138952 -0.802264 -1.847069  1.14253 -0.877563    0.756098  \n",
       "\n",
       "[2 rows x 64 columns]"
      ]
     },
     "execution_count": 49,
     "metadata": {},
     "output_type": "execute_result"
    }
   ],
   "source": [
    "azdias.head(2)"
   ]
  },
  {
   "cell_type": "markdown",
   "metadata": {},
   "source": [
    "### Discussion 2.1: Apply Feature Scaling\n",
    "\n",
    "I replaced all missing values with using the mode technique (most frequent) value using the Imputer class from sklearn.<br>\n",
    "I scaled all the features using the StandardScaler class provided from sklearn."
   ]
  },
  {
   "cell_type": "markdown",
   "metadata": {},
   "source": [
    "### Step 2.2: Perform Dimensionality Reduction\n",
    "\n",
    "On your scaled data, you are now ready to apply dimensionality reduction techniques.\n",
    "\n",
    "- Use sklearn's [PCA](http://scikit-learn.org/stable/modules/generated/sklearn.decomposition.PCA.html) class to apply principal component analysis on the data, thus finding the vectors of maximal variance in the data. To start, you should not set any parameters (so all components are computed) or set a number of components that is at least half the number of features (so there's enough features to see the general trend in variability).\n",
    "- Check out the ratio of variance explained by each principal component as well as the cumulative variance explained. Try plotting the cumulative or sequential values using matplotlib's [`plot()`](https://matplotlib.org/api/_as_gen/matplotlib.pyplot.plot.html) function. Based on what you find, select a value for the number of transformed features you'll retain for the clustering part of the project.\n",
    "- Once you've made a choice for the number of components to keep, make sure you re-fit a PCA instance to perform the decided-on transformation."
   ]
  },
  {
   "cell_type": "markdown",
   "metadata": {},
   "source": [
    "https://www.w3schools.com/python/matplotlib_labels.asp <br>\n",
    "https://www.youtube.com/watch?v=Lsue2gEM9D0"
   ]
  },
  {
   "cell_type": "code",
   "execution_count": 50,
   "metadata": {},
   "outputs": [
    {
     "name": "stdout",
     "output_type": "stream",
     "text": [
      "[  1.70951366e-01   1.36585689e-01   9.51306988e-02   5.35492313e-02\n",
      "   3.78829191e-02   3.16513929e-02   2.82678170e-02   2.48239635e-02\n",
      "   2.33883575e-02   2.15066669e-02   2.07385300e-02   1.90962811e-02\n",
      "   1.85421878e-02   1.70350504e-02   1.62274942e-02   1.56205889e-02\n",
      "   1.48190494e-02   1.43418247e-02   1.30200995e-02   1.29952530e-02\n",
      "   1.22825344e-02   1.19997433e-02   1.16326923e-02   1.11171318e-02\n",
      "   1.05510449e-02   8.60405313e-03   7.89310270e-03   7.57741321e-03\n",
      "   7.35610134e-03   7.25456697e-03   6.69570786e-03   6.60259801e-03\n",
      "   6.44065578e-03   6.25710575e-03   5.97820304e-03   5.84980556e-03\n",
      "   5.51434620e-03   4.88367499e-03   4.69211081e-03   4.53627156e-03\n",
      "   4.20870432e-03   3.93360227e-03   3.83400046e-03   3.73803979e-03\n",
      "   3.63934637e-03   3.43755045e-03   3.26384069e-03   3.16469492e-03\n",
      "   3.00843938e-03   2.92138001e-03   2.68080165e-03   2.60523631e-03\n",
      "   2.59199704e-03   2.33898837e-03   2.26228906e-03   2.16299862e-03\n",
      "   1.93958865e-03   1.81442008e-03   1.67550785e-03   1.59771630e-03\n",
      "   1.31720493e-03   1.24248802e-03   7.27839802e-04   1.01977636e-28]\n"
     ]
    }
   ],
   "source": [
    "# Apply PCA to the data.\n",
    "from sklearn.decomposition import PCA\n",
    "pca = PCA()\n",
    "pca.fit(azdias)\n",
    "print(pca.explained_variance_ratio_)"
   ]
  },
  {
   "cell_type": "code",
   "execution_count": 51,
   "metadata": {},
   "outputs": [],
   "source": [
    "#preparing the data for the plot\n",
    "li=list(pca.explained_variance_ratio_)\n",
    "pc=[]\n",
    "variance=[]\n",
    "labels=[]\n",
    "for idx,val in enumerate(li):  #the percentage of each pc variance (maybe??)\n",
    "    variance.append(round(val*100,2))\n",
    "    pc.append((idx+1))\n",
    "    labels.append(idx+1)"
   ]
  },
  {
   "cell_type": "code",
   "execution_count": 52,
   "metadata": {},
   "outputs": [
    {
     "data": {
      "text/plain": [
       "([<matplotlib.axis.XTick at 0x7f966e8eb160>,\n",
       "  <matplotlib.axis.XTick at 0x7f966e8ceeb8>,\n",
       "  <matplotlib.axis.XTick at 0x7f966e8d7c88>,\n",
       "  <matplotlib.axis.XTick at 0x7f966c1bef60>,\n",
       "  <matplotlib.axis.XTick at 0x7f966c1c55f8>,\n",
       "  <matplotlib.axis.XTick at 0x7f966c1c5c50>,\n",
       "  <matplotlib.axis.XTick at 0x7f966c1cb320>,\n",
       "  <matplotlib.axis.XTick at 0x7f966c1cb9b0>,\n",
       "  <matplotlib.axis.XTick at 0x7f966c1d2080>,\n",
       "  <matplotlib.axis.XTick at 0x7f966c1d2710>,\n",
       "  <matplotlib.axis.XTick at 0x7f966c1d2da0>,\n",
       "  <matplotlib.axis.XTick at 0x7f966c1d8470>,\n",
       "  <matplotlib.axis.XTick at 0x7f966c1d8b00>,\n",
       "  <matplotlib.axis.XTick at 0x7f966c1df1d0>,\n",
       "  <matplotlib.axis.XTick at 0x7f966c1df860>,\n",
       "  <matplotlib.axis.XTick at 0x7f966c1dfef0>,\n",
       "  <matplotlib.axis.XTick at 0x7f966c1e45c0>,\n",
       "  <matplotlib.axis.XTick at 0x7f966c1e4c50>,\n",
       "  <matplotlib.axis.XTick at 0x7f966c16c320>,\n",
       "  <matplotlib.axis.XTick at 0x7f966c16c9b0>,\n",
       "  <matplotlib.axis.XTick at 0x7f966c172080>,\n",
       "  <matplotlib.axis.XTick at 0x7f966c172710>,\n",
       "  <matplotlib.axis.XTick at 0x7f966c172da0>,\n",
       "  <matplotlib.axis.XTick at 0x7f966c178470>,\n",
       "  <matplotlib.axis.XTick at 0x7f966c178b00>,\n",
       "  <matplotlib.axis.XTick at 0x7f966c17f1d0>,\n",
       "  <matplotlib.axis.XTick at 0x7f966c17f860>,\n",
       "  <matplotlib.axis.XTick at 0x7f966c17fef0>,\n",
       "  <matplotlib.axis.XTick at 0x7f966c1855c0>,\n",
       "  <matplotlib.axis.XTick at 0x7f966c185c50>,\n",
       "  <matplotlib.axis.XTick at 0x7f966c18c320>,\n",
       "  <matplotlib.axis.XTick at 0x7f966c18c9b0>,\n",
       "  <matplotlib.axis.XTick at 0x7f966c193080>,\n",
       "  <matplotlib.axis.XTick at 0x7f966c193710>,\n",
       "  <matplotlib.axis.XTick at 0x7f966c193da0>,\n",
       "  <matplotlib.axis.XTick at 0x7f966c19a470>,\n",
       "  <matplotlib.axis.XTick at 0x7f966c19ab00>,\n",
       "  <matplotlib.axis.XTick at 0x7f966c19f1d0>,\n",
       "  <matplotlib.axis.XTick at 0x7f966c19f860>,\n",
       "  <matplotlib.axis.XTick at 0x7f966c19fef0>,\n",
       "  <matplotlib.axis.XTick at 0x7f966c1a65c0>,\n",
       "  <matplotlib.axis.XTick at 0x7f966c1a6c50>,\n",
       "  <matplotlib.axis.XTick at 0x7f966c12c320>,\n",
       "  <matplotlib.axis.XTick at 0x7f966c12c9b0>,\n",
       "  <matplotlib.axis.XTick at 0x7f966c134080>,\n",
       "  <matplotlib.axis.XTick at 0x7f966c134710>,\n",
       "  <matplotlib.axis.XTick at 0x7f966c134da0>,\n",
       "  <matplotlib.axis.XTick at 0x7f966c139470>,\n",
       "  <matplotlib.axis.XTick at 0x7f966c139b00>,\n",
       "  <matplotlib.axis.XTick at 0x7f966c13f1d0>,\n",
       "  <matplotlib.axis.XTick at 0x7f966c13f860>,\n",
       "  <matplotlib.axis.XTick at 0x7f966c13fef0>,\n",
       "  <matplotlib.axis.XTick at 0x7f966c1455c0>,\n",
       "  <matplotlib.axis.XTick at 0x7f966c145c50>,\n",
       "  <matplotlib.axis.XTick at 0x7f966c14d320>,\n",
       "  <matplotlib.axis.XTick at 0x7f966c14d9b0>,\n",
       "  <matplotlib.axis.XTick at 0x7f966c154080>,\n",
       "  <matplotlib.axis.XTick at 0x7f966c154710>,\n",
       "  <matplotlib.axis.XTick at 0x7f966c154da0>,\n",
       "  <matplotlib.axis.XTick at 0x7f966c15a470>,\n",
       "  <matplotlib.axis.XTick at 0x7f966c15ab00>,\n",
       "  <matplotlib.axis.XTick at 0x7f966c1601d0>,\n",
       "  <matplotlib.axis.XTick at 0x7f966c160860>,\n",
       "  <matplotlib.axis.XTick at 0x7f966c160ef0>],\n",
       " <a list of 64 Text xticklabel objects>)"
      ]
     },
     "execution_count": 52,
     "metadata": {},
     "output_type": "execute_result"
    },
    {
     "data": {
      "image/png": "[encoded data removed]",
      "text/plain": [
       "<matplotlib.figure.Figure at 0x7f966e8bacc0>"
      ]
     },
     "metadata": {
      "needs_background": "light"
     },
     "output_type": "display_data"
    }
   ],
   "source": [
    "# Investigate the variance accounted for by each principal component.\n",
    "plt.rcParams[\"figure.figsize\"] = (20,20)\n",
    "\n",
    "plt.plot(pc, variance)\n",
    "\n",
    "plt.xlabel(\"Principal components\")\n",
    "plt.ylabel(\"Variance\")\n",
    "\n",
    "plt.xticks(list(range(0,len(li))), labels)\n"
   ]
  },
  {
   "cell_type": "code",
   "execution_count": 53,
   "metadata": {},
   "outputs": [
    {
     "data": {
      "text/plain": [
       "(697109, 32)"
      ]
     },
     "execution_count": 53,
     "metadata": {},
     "output_type": "execute_result"
    }
   ],
   "source": [
    "# Re-apply PCA to the data while selecting for number of components to retain.\n",
    "#32 / 30 might seem as a good choice as mentioned above i will choose 32\n",
    "\n",
    "pca=PCA(n_components=32)\n",
    "pca.fit(azdias)\n",
    "azdias_transformed_pca=pca.transform(azdias)\n",
    "\n",
    "azdias_transformed_pca.shape"
   ]
  },
  {
   "cell_type": "markdown",
   "metadata": {},
   "source": [
    "### Discussion 2.2: Perform Dimensionality Reduction\n",
    "\n",
    "How many principal components / transformed features are you retaining for the next step of the analysis?\n",
    "The number of PC's i choose is 32"
   ]
  },
  {
   "cell_type": "markdown",
   "metadata": {},
   "source": [
    "### Step 2.3: Interpret Principal Components\n",
    "\n",
    "Now that we have our transformed principal components, it's a nice idea to check out the weight of each variable on the first few components to see if they can be interpreted in some fashion.\n",
    "\n",
    "As a reminder, each principal component is a unit vector that points in the direction of highest variance (after accounting for the variance captured by earlier principal components). The further a weight is from zero, the more the principal component is in the direction of the corresponding feature. If two features have large weights of the same sign (both positive or both negative), then increases in one tend expect to be associated with increases in the other. To contrast, features with different signs can be expected to show a negative correlation: increases in one variable should result in a decrease in the other.\n",
    "\n",
    "- To investigate the features, you should map each weight to their corresponding feature name, then sort the features according to weight. The most interesting features for each principal component, then, will be those at the beginning and end of the sorted list. Use the data dictionary document to help you understand these most prominent features, their relationships, and what a positive or negative value on the principal component might indicate.\n",
    "- You should investigate and interpret feature associations from the first three principal components in this substep. To help facilitate this, you should write a function that you can call at any time to print the sorted list of feature weights, for the *i*-th principal component. This might come in handy in the next step of the project, when you interpret the tendencies of the discovered clusters."
   ]
  },
  {
   "cell_type": "markdown",
   "metadata": {},
   "source": [
    "https://knowledge.udacity.com/questions/381184"
   ]
  },
  {
   "cell_type": "code",
   "execution_count": 54,
   "metadata": {},
   "outputs": [
    {
     "data": {
      "text/plain": [
       "(32, 64)"
      ]
     },
     "execution_count": 54,
     "metadata": {},
     "output_type": "execute_result"
    }
   ],
   "source": [
    "components = pca.components_\n",
    "\n",
    "components.shape"
   ]
  },
  {
   "cell_type": "code",
   "execution_count": 55,
   "metadata": {},
   "outputs": [
    {
     "data": {
      "text/plain": [
       "PLZ8_ANTG3               0.223247\n",
       "PLZ8_ANTG4               0.216587\n",
       "Wealth                   0.203786\n",
       "HH_EINKOMMEN_SCORE       0.201542\n",
       "ORTSGR_KLS9              0.193506\n",
       "EWDICHTE                 0.191014\n",
       "FINANZ_HAUSBAUER         0.155957\n",
       "KBA05_ANTG4              0.152271\n",
       "PLZ8_ANTG2               0.150589\n",
       "FINANZ_SPARER            0.149524\n",
       "ARBEIT                   0.141247\n",
       "KBA05_ANTG3              0.136304\n",
       "ANZ_HAUSHALTE_AKTIV      0.135853\n",
       "RELAT_AB                 0.131724\n",
       "SEMIO_PFLICHT            0.117440\n",
       "SEMIO_REL                0.114762\n",
       "Movement                 0.112100\n",
       "Decade                   0.110346\n",
       "SEMIO_TRADV              0.098769\n",
       "SEMIO_RAT                0.098288\n",
       "SEMIO_MAT                0.085930\n",
       "SEMIO_FAM                0.082418\n",
       "FINANZ_UNAUFFAELLIGER    0.080213\n",
       "SEMIO_KULT               0.077672\n",
       "FINANZ_ANLEGER           0.068978\n",
       "REGIOTYP                 0.062539\n",
       "SEMIO_SOZ                0.046210\n",
       "KKK                      0.041035\n",
       "PLZ8_HHZ                 0.040730\n",
       "ANZ_HH_TITEL             0.033439\n",
       "                           ...   \n",
       "SEMIO_DOM                0.018810\n",
       "KBA05_ANTG2              0.010359\n",
       "SEMIO_KRIT               0.001454\n",
       "ANREDE_KZ                0.001294\n",
       "SOHO_KZ                 -0.002027\n",
       "ANZ_TITEL               -0.005086\n",
       "RETOURTYP_BK_S          -0.026239\n",
       "SEMIO_VERT              -0.031219\n",
       "ONLINE_AFFINITAET       -0.036426\n",
       "MIN_GEBAEUDEJAHR        -0.052233\n",
       "OST_WEST_KZ             -0.056247\n",
       "WOHNDAUER_2008          -0.066015\n",
       "KBA13_ANZAHL_PKW        -0.077439\n",
       "ANZ_PERSONEN            -0.080781\n",
       "SEMIO_ERL               -0.087142\n",
       "SEMIO_LUST              -0.087922\n",
       "GREEN_AVANTGARDE        -0.112100\n",
       "GEBAEUDETYP_RASTER      -0.114953\n",
       "FINANZ_VORSORGER        -0.119025\n",
       "Life_stage              -0.124107\n",
       "BALLRAUM                -0.124337\n",
       "ALTERSKATEGORIE_GROB    -0.128338\n",
       "INNENSTADT              -0.161504\n",
       "KONSUMNAEHE             -0.164569\n",
       "PLZ8_GBZ                -0.166069\n",
       "KBA05_GBZ               -0.216445\n",
       "FINANZ_MINIMALIST       -0.219907\n",
       "PLZ8_ANTG1              -0.223623\n",
       "KBA05_ANTG1             -0.224935\n",
       "MOBI_REGIO              -0.241338\n",
       "Name: 0, Length: 64, dtype: float64"
      ]
     },
     "execution_count": 55,
     "metadata": {},
     "output_type": "execute_result"
    }
   ],
   "source": [
    "# Map weights for the first principal component to corresponding feature names\n",
    "# and then print the linked values, sorted by weight.\n",
    "# HINT: Try defining a function here or in a new cell that you can reuse in the\n",
    "# other cells.\n",
    "def PCA_WEIGHTS(pca, i):\n",
    "    azdia_pca = pd.DataFrame(pca.components_, columns=list(azdias.columns))\n",
    "    weights = azdia_pca.iloc[i].sort_values(ascending=False) #to get big values first\n",
    "    return weights\n",
    "\n",
    "PCA_WEIGHTS(pca, 0)"
   ]
  },
  {
   "cell_type": "code",
   "execution_count": 56,
   "metadata": {},
   "outputs": [
    {
     "data": {
      "text/plain": [
       "ALTERSKATEGORIE_GROB     0.253884\n",
       "SEMIO_ERL                0.230360\n",
       "FINANZ_VORSORGER         0.226234\n",
       "SEMIO_LUST               0.178799\n",
       "RETOURTYP_BK_S           0.164405\n",
       "SEMIO_KRIT               0.122015\n",
       "FINANZ_HAUSBAUER         0.121236\n",
       "W_KEIT_KIND_HH           0.115217\n",
       "SEMIO_KAEM               0.114356\n",
       "PLZ8_ANTG3               0.100013\n",
       "EWDICHTE                 0.096318\n",
       "PLZ8_ANTG4               0.095703\n",
       "ORTSGR_KLS9              0.095112\n",
       "ANREDE_KZ                0.092309\n",
       "Wealth                   0.078364\n",
       "KBA05_ANTG4              0.074144\n",
       "ARBEIT                   0.070192\n",
       "SEMIO_DOM                0.069631\n",
       "PLZ8_ANTG2               0.067853\n",
       "RELAT_AB                 0.067513\n",
       "ANZ_HAUSHALTE_AKTIV      0.064882\n",
       "FINANZ_MINIMALIST        0.058572\n",
       "HH_EINKOMMEN_SCORE       0.057947\n",
       "WOHNDAUER_2008           0.057154\n",
       "KBA05_ANTG3              0.049986\n",
       "ANZ_HH_TITEL             0.031321\n",
       "VERS_TYP                 0.030762\n",
       "Movement                 0.020115\n",
       "REGIOTYP                 0.016323\n",
       "PLZ8_HHZ                 0.014461\n",
       "                           ...   \n",
       "KBA05_ANTG2             -0.007726\n",
       "GREEN_AVANTGARDE        -0.020115\n",
       "OST_WEST_KZ             -0.028348\n",
       "KBA13_ANZAHL_PKW        -0.037289\n",
       "MIN_GEBAEUDEJAHR        -0.041804\n",
       "GEBAEUDETYP_RASTER      -0.045569\n",
       "HEALTH_TYP              -0.054840\n",
       "BALLRAUM                -0.063404\n",
       "ANZ_PERSONEN            -0.064545\n",
       "KONSUMNAEHE             -0.072558\n",
       "SEMIO_VERT              -0.072576\n",
       "PLZ8_GBZ                -0.076557\n",
       "INNENSTADT              -0.078611\n",
       "KBA05_ANTG1             -0.087998\n",
       "KBA05_GBZ               -0.096741\n",
       "PLZ8_ANTG1              -0.097823\n",
       "MOBI_REGIO              -0.098239\n",
       "SEMIO_SOZ               -0.104631\n",
       "SEMIO_MAT               -0.157086\n",
       "ONLINE_AFFINITAET       -0.163884\n",
       "SEMIO_RAT               -0.166656\n",
       "SEMIO_FAM               -0.180437\n",
       "FINANZ_ANLEGER          -0.203350\n",
       "SEMIO_KULT              -0.220009\n",
       "FINANZ_UNAUFFAELLIGER   -0.223911\n",
       "SEMIO_TRADV             -0.227598\n",
       "SEMIO_PFLICHT           -0.228512\n",
       "FINANZ_SPARER           -0.231811\n",
       "Decade                  -0.238290\n",
       "SEMIO_REL               -0.257513\n",
       "Name: 1, Length: 64, dtype: float64"
      ]
     },
     "execution_count": 56,
     "metadata": {},
     "output_type": "execute_result"
    }
   ],
   "source": [
    "# Map weights for the second principal component to corresponding feature names\n",
    "# and then print the linked values, sorted by weight.\n",
    "PCA_WEIGHTS(pca, 1)"
   ]
  },
  {
   "cell_type": "code",
   "execution_count": 57,
   "metadata": {},
   "outputs": [
    {
     "data": {
      "text/plain": [
       "SEMIO_VERT               0.347178\n",
       "SEMIO_SOZ                0.263276\n",
       "SEMIO_FAM                0.250051\n",
       "SEMIO_KULT               0.230500\n",
       "FINANZ_MINIMALIST        0.158031\n",
       "RETOURTYP_BK_S           0.117578\n",
       "FINANZ_VORSORGER         0.100964\n",
       "W_KEIT_KIND_HH           0.091605\n",
       "ALTERSKATEGORIE_GROB     0.084031\n",
       "SEMIO_REL                0.075523\n",
       "SEMIO_LUST               0.072315\n",
       "SEMIO_MAT                0.051847\n",
       "GREEN_AVANTGARDE         0.049005\n",
       "EWDICHTE                 0.046744\n",
       "ORTSGR_KLS9              0.046716\n",
       "PLZ8_ANTG4               0.045187\n",
       "PLZ8_ANTG3               0.044656\n",
       "WOHNDAUER_2008           0.035799\n",
       "ARBEIT                   0.032334\n",
       "RELAT_AB                 0.030882\n",
       "PLZ8_ANTG2               0.029978\n",
       "KBA05_ANTG4              0.028221\n",
       "ANZ_HAUSHALTE_AKTIV      0.025973\n",
       "Wealth                   0.025328\n",
       "VERS_TYP                 0.019183\n",
       "ANZ_HH_TITEL             0.014287\n",
       "ANZ_TITEL                0.010536\n",
       "KBA05_ANTG3              0.007334\n",
       "PLZ8_HHZ                 0.005567\n",
       "SOHO_KZ                  0.000326\n",
       "                           ...   \n",
       "OST_WEST_KZ             -0.012592\n",
       "MIN_GEBAEUDEJAHR        -0.013768\n",
       "HEALTH_TYP              -0.016270\n",
       "KKK                     -0.016763\n",
       "KBA13_ANZAHL_PKW        -0.021674\n",
       "HH_EINKOMMEN_SCORE      -0.022743\n",
       "KBA05_ANTG1             -0.023247\n",
       "KBA05_GBZ               -0.027304\n",
       "MOBI_REGIO              -0.030056\n",
       "GEBAEUDETYP_RASTER      -0.030472\n",
       "BALLRAUM                -0.035328\n",
       "PLZ8_GBZ                -0.037132\n",
       "KONSUMNAEHE             -0.038270\n",
       "INNENSTADT              -0.042988\n",
       "PLZ8_ANTG1              -0.045209\n",
       "FINANZ_HAUSBAUER        -0.045306\n",
       "Movement                -0.049005\n",
       "ONLINE_AFFINITAET       -0.058157\n",
       "SEMIO_PFLICHT           -0.079137\n",
       "SEMIO_TRADV             -0.086701\n",
       "FINANZ_UNAUFFAELLIGER   -0.095690\n",
       "FINANZ_SPARER           -0.104354\n",
       "Decade                  -0.108784\n",
       "SEMIO_ERL               -0.170396\n",
       "FINANZ_ANLEGER          -0.189695\n",
       "SEMIO_RAT               -0.218302\n",
       "SEMIO_KRIT              -0.268950\n",
       "SEMIO_DOM               -0.312703\n",
       "SEMIO_KAEM              -0.336751\n",
       "ANREDE_KZ               -0.368241\n",
       "Name: 2, Length: 64, dtype: float64"
      ]
     },
     "execution_count": 57,
     "metadata": {},
     "output_type": "execute_result"
    }
   ],
   "source": [
    "# Map weights for the third principal component to corresponding feature names\n",
    "# and then print the linked values, sorted by weight.\n",
    "\n",
    "PCA_WEIGHTS(pca, 2)"
   ]
  },
  {
   "cell_type": "markdown",
   "metadata": {},
   "source": [
    "### Discussion 2.3: Interpret Principal Components\n",
    "\n",
    "\n",
    "* From the second pricncipal component PLZ8_ANTG4, ORTSGR_KLS9 have a positive correlation. The Size of community and the Number of 10+ family houses in the PLZ8 region increases together.\n",
    "\n",
    "* From the second pricncipal component SEMIO_REL and ALTERSKATEGORIE_GROB have negative correlation. The increase in the age of the person decreases the affinity."
   ]
  },
  {
   "cell_type": "markdown",
   "metadata": {},
   "source": [
    "## Step 3: Clustering\n",
    "\n",
    "### Step 3.1: Apply Clustering to General Population\n",
    "\n",
    "You've assessed and cleaned the demographics data, then scaled and transformed them. Now, it's time to see how the data clusters in the principal components space. In this substep, you will apply k-means clustering to the dataset and use the average within-cluster distances from each point to their assigned cluster's centroid to decide on a number of clusters to keep.\n",
    "\n",
    "- Use sklearn's [KMeans](http://scikit-learn.org/stable/modules/generated/sklearn.cluster.KMeans.html#sklearn.cluster.KMeans) class to perform k-means clustering on the PCA-transformed data.\n",
    "- Then, compute the average difference from each point to its assigned cluster's center. **Hint**: The KMeans object's `.score()` method might be useful here, but note that in sklearn, scores tend to be defined so that larger is better. Try applying it to a small, toy dataset, or use an internet search to help your understanding.\n",
    "- Perform the above two steps for a number of different cluster counts. You can then see how the average distance decreases with an increasing number of clusters. However, each additional cluster provides a smaller net benefit. Use this fact to select a final number of clusters in which to group the data. **Warning**: because of the large size of the dataset, it can take a long time for the algorithm to resolve. The more clusters to fit, the longer the algorithm will take. You should test for cluster counts through at least 10 clusters to get the full picture, but you shouldn't need to test for a number of clusters above about 30.\n",
    "- Once you've selected a final number of clusters to use, re-fit a KMeans instance to perform the clustering operation. Make sure that you also obtain the cluster assignments for the general demographics data, since you'll be using them in the final Step 3.3."
   ]
  },
  {
   "cell_type": "code",
   "execution_count": 78,
   "metadata": {},
   "outputs": [
    {
     "name": "stdout",
     "output_type": "stream",
     "text": [
      "Cluster count # 1  finished\n",
      "Cluster count # 2  finished\n",
      "Cluster count # 3  finished\n",
      "Cluster count # 4  finished\n",
      "Cluster count # 5  finished\n",
      "Cluster count # 6  finished\n",
      "Cluster count # 7  finished\n",
      "Cluster count # 8  finished\n",
      "Cluster count # 9  finished\n",
      "Cluster count # 10  finished\n",
      "Cluster count # 11  finished\n",
      "Cluster count # 12  finished\n",
      "Cluster count # 13  finished\n",
      "Cluster count # 14  finished\n",
      "Cluster count # 15  finished\n",
      "Cluster count # 16  finished\n",
      "{1: 39960108.182603881, 2: 34223989.746413872, 3: 31170955.238144264, 4: 29389097.190475315, 5: 28068546.204956595, 6: 26959729.866035257, 7: 25962630.369618461, 8: 25203047.091255024, 9: 24669679.078020416, 10: 24151269.624577302, 11: 23482939.20441689, 12: 23449476.48710306, 13: 22809536.480105769, 14: 22555129.334297091, 15: 22301096.539797656, 16: 21862734.111169066}\n"
     ]
    }
   ],
   "source": [
    "from sklearn.cluster import KMeans \n",
    "\n",
    "# Over a number of different cluster counts...\n",
    "    # run k-means clustering on the data and...\n",
    "    # compute the average within-cluster distances. \n",
    "cluster_counts=16\n",
    "scores_packet={}\n",
    "for i in range(1,cluster_counts+1):\n",
    "    kmeans = KMeans(n_clusters = i)\n",
    "    model = kmeans.fit(azdias_transformed_pca)\n",
    "    score = abs(model.score(azdias_transformed_pca))\n",
    "    scores_packet[i]=score\n",
    "    print('Cluster count #',i,\" finished\")\n",
    "\n",
    "print(scores_packet)\n"
   ]
  },
  {
   "cell_type": "code",
   "execution_count": 86,
   "metadata": {},
   "outputs": [
    {
     "data": {
      "image/png": "[encoded data removed]",
      "text/plain": [
       "<matplotlib.figure.Figure at 0x7f966ff38eb8>"
      ]
     },
     "metadata": {},
     "output_type": "display_data"
    }
   ],
   "source": [
    "# Investigate the change in within-cluster distance across number of clusters.\n",
    "# HINT: Use matplotlib's plot function to visualize this relationship.\n",
    "import matplotlib.pyplot as plt\n",
    "plt.clf()\n",
    "plt.plot(list(scores_packet.keys()),list(scores_packet.values()),marker='x')\n",
    "plt.scatter(   list(scores_packet.keys()),list(scores_packet.values()) ,s=10)\n",
    "plt.xlabel('k cluster')\n",
    "plt.ylabel('DISTANCES')\n",
    "plt.show()"
   ]
  },
  {
   "cell_type": "markdown",
   "metadata": {},
   "source": [
    "The above 2 cells i commented it out and ran it before i submit the project so i won't waste my time waiting for kmeans to fit multiple clusters every time I run the code. If you didn't understand what i say it's okay you can go on nothing really important with what i just said"
   ]
  },
  {
   "cell_type": "code",
   "execution_count": 60,
   "metadata": {},
   "outputs": [],
   "source": [
    "# Re-fit the k-means model with the selected number of clusters and obtain\n",
    "# cluster predictions for the general population demographics data.\n",
    "kmeans = KMeans(n_clusters = 15)\n",
    "finalKmean = kmeans.fit(azdias_transformed_pca)\n",
    "azdias_predicted = finalKmean.predict(azdias_transformed_pca)"
   ]
  },
  {
   "cell_type": "markdown",
   "metadata": {},
   "source": [
    "### Discussion 3.1: Apply Clustering to General Population\n",
    "\n",
    "So it looks like im using the elbow method and the computation time is really high since the dataset is huge as mentioned above that i should not exceed 30 clusters but i should be above 10 i choose 15 to be the number of clusters to segment the population although it is possible to choose 14 and decrease the number of computations and it will be still optimal i think but lets stick to 15"
   ]
  },
  {
   "cell_type": "markdown",
   "metadata": {},
   "source": [
    "### Step 3.2: Apply All Steps to the Customer Data\n",
    "\n",
    "Now that you have clusters and cluster centers for the general population, it's time to see how the customer data maps on to those clusters. Take care to not confuse this for re-fitting all of the models to the customer data. Instead, you're going to use the fits from the general population to clean, transform, and cluster the customer data. In the last step of the project, you will interpret how the general population fits apply to the customer data.\n",
    "\n",
    "- Don't forget when loading in the customers data, that it is semicolon (`;`) delimited.\n",
    "- Apply the same feature wrangling, selection, and engineering steps to the customer demographics using the `clean_data()` function you created earlier. (You can assume that the customer demographics data has similar meaning behind missing data patterns as the general demographics data.)\n",
    "- Use the sklearn objects from the general demographics data, and apply their transformations to the customers data. That is, you should not be using a `.fit()` or `.fit_transform()` method to re-fit the old objects, nor should you be creating new sklearn objects! Carry the data through the feature scaling, PCA, and clustering steps, obtaining cluster assignments for all of the data in the customer demographics data."
   ]
  },
  {
   "cell_type": "code",
   "execution_count": 61,
   "metadata": {},
   "outputs": [
    {
     "data": {
      "text/plain": [
       "(191652, 85)"
      ]
     },
     "execution_count": 61,
     "metadata": {},
     "output_type": "execute_result"
    }
   ],
   "source": [
    "# Load in the customer demographics data.\n",
    "customers = pd.read_csv(\"Udacity_CUSTOMERS_Subset.csv\", sep = ';')\n",
    "customers.shape"
   ]
  },
  {
   "cell_type": "code",
   "execution_count": 62,
   "metadata": {},
   "outputs": [],
   "source": [
    "# Apply preprocessing, feature transformation, and clustering from the general\n",
    "# demographics onto the customer data, obtaining cluster predictions for the\n",
    "# customer demographics data.\n",
    "customers_clean=clean_data(customers)"
   ]
  },
  {
   "cell_type": "code",
   "execution_count": 63,
   "metadata": {},
   "outputs": [
    {
     "data": {
      "text/plain": [
       "(111744, 66)"
      ]
     },
     "execution_count": 63,
     "metadata": {},
     "output_type": "execute_result"
    }
   ],
   "source": [
    "customers_clean.shape"
   ]
  },
  {
   "cell_type": "code",
   "execution_count": 64,
   "metadata": {},
   "outputs": [
    {
     "name": "stdout",
     "output_type": "stream",
     "text": [
      "extra columns: {'GEBURTSJAHR', 'ALTER_HH'}\n"
     ]
    }
   ],
   "source": [
    "def add_missing_dummy_columns(d, columns):\n",
    "    missing_cols = set(columns) - set(d.columns)\n",
    "    #print(missing_cols)\n",
    "    for c in missing_cols:\n",
    "        d[c] = 0\n",
    "           \n",
    "def fix_columns(d, columns):  \n",
    "    add_missing_dummy_columns(d, columns)\n",
    "    # make sure we have all the columns we need\n",
    "    assert(set(columns) - set(d.columns) == set())\n",
    "    extra_cols = set(d.columns) - set(columns)\n",
    "    if extra_cols:\n",
    "        print(\"extra columns:\", extra_cols)\n",
    "    d = d[columns]\n",
    "    return d\n",
    "\n",
    "customers_clean = fix_columns(customers_clean, azdias.columns.tolist())"
   ]
  },
  {
   "cell_type": "markdown",
   "metadata": {},
   "source": [
    "https://knowledge.udacity.com/questions/696153 <br>\n",
    "https://knowledge.udacity.com/questions/65620"
   ]
  },
  {
   "cell_type": "code",
   "execution_count": 65,
   "metadata": {},
   "outputs": [],
   "source": [
    "# remove nan values\n",
    "customers_clean_imputed = pd.DataFrame(im.fit_transform(customers_clean))\n",
    "\n",
    "#adding cols so it would be a complete dataset\n",
    "customers_clean_imputed.columns = customers_clean.columns\n",
    "customers_clean_imputed.index = customers_clean.index\n",
    "\n",
    "\n",
    "\n",
    "# scaling customer values using standard scaler fitted earlier\n",
    "customers_clean_scaled = sc.transform(customers_clean_imputed)\n",
    "customers_clean_scaled = pd.DataFrame(customers_clean_scaled, columns=list(customers_clean_imputed))\n",
    "\n",
    "# PCA transformation using the earlier pca instance\n",
    "customers_pca = pca.transform(customers_clean_scaled)\n",
    "\n"
   ]
  },
  {
   "cell_type": "code",
   "execution_count": 66,
   "metadata": {},
   "outputs": [],
   "source": [
    "# Predict using Kmeans finalKmean\n",
    "customers_predictions = finalKmean.predict(customers_pca)"
   ]
  },
  {
   "cell_type": "code",
   "execution_count": 67,
   "metadata": {},
   "outputs": [
    {
     "data": {
      "text/plain": [
       "(111744,)"
      ]
     },
     "execution_count": 67,
     "metadata": {},
     "output_type": "execute_result"
    }
   ],
   "source": [
    "customers_predictions.shape"
   ]
  },
  {
   "cell_type": "markdown",
   "metadata": {},
   "source": [
    "### Step 3.3: Compare Customer Data to Demographics Data\n",
    "\n",
    "At this point, you have clustered data based on demographics of the general population of Germany, and seen how the customer data for a mail-order sales company maps onto those demographic clusters. In this final substep, you will compare the two cluster distributions to see where the strongest customer base for the company is.\n",
    "\n",
    "Consider the proportion of persons in each cluster for the general population, and the proportions for the customers. If we think the company's customer base to be universal, then the cluster assignment proportions should be fairly similar between the two. If there are only particular segments of the population that are interested in the company's products, then we should see a mismatch from one to the other. If there is a higher proportion of persons in a cluster for the customer data compared to the general population (e.g. 5% of persons are assigned to a cluster for the general population, but 15% of the customer data is closest to that cluster's centroid) then that suggests the people in that cluster to be a target audience for the company. On the other hand, the proportion of the data in a cluster being larger in the general population than the customer data (e.g. only 2% of customers closest to a population centroid that captures 6% of the data) suggests that group of persons to be outside of the target demographics.\n",
    "\n",
    "Take a look at the following points in this step:\n",
    "\n",
    "- Compute the proportion of data points in each cluster for the general population and the customer data. Visualizations will be useful here: both for the individual dataset proportions, but also to visualize the ratios in cluster representation between groups. Seaborn's [`countplot()`](https://seaborn.pydata.org/generated/seaborn.countplot.html) or [`barplot()`](https://seaborn.pydata.org/generated/seaborn.barplot.html) function could be handy.\n",
    "  - Recall the analysis you performed in step 1.1.3 of the project, where you separated out certain data points from the dataset if they had more than a specified threshold of missing values. If you found that this group was qualitatively different from the main bulk of the data, you should treat this as an additional data cluster in this analysis. Make sure that you account for the number of data points in this subset, for both the general population and customer datasets, when making your computations!\n",
    "- Which cluster or clusters are overrepresented in the customer dataset compared to the general population? Select at least one such cluster and infer what kind of people might be represented by that cluster. Use the principal component interpretations from step 2.3 or look at additional components to help you make this inference. Alternatively, you can use the `.inverse_transform()` method of the PCA and StandardScaler objects to transform centroids back to the original data space and interpret the retrieved values directly.\n",
    "- Perform a similar investigation for the underrepresented clusters. Which cluster or clusters are underrepresented in the customer dataset compared to the general population, and what kinds of people are typified by these clusters?"
   ]
  },
  {
   "cell_type": "markdown",
   "metadata": {},
   "source": [
    "https://stackoverflow.com/questions/31632637/label-axes-on-seaborn-barplot/31632745"
   ]
  },
  {
   "cell_type": "code",
   "execution_count": 68,
   "metadata": {},
   "outputs": [
    {
     "name": "stdout",
     "output_type": "stream",
     "text": [
      "Barplot\n"
     ]
    },
    {
     "data": {
      "image/png": "[encoded data removed]",
      "text/plain": [
       "<matplotlib.figure.Figure at 0x7f966fb756d8>"
      ]
     },
     "metadata": {},
     "output_type": "display_data"
    },
    {
     "data": {
      "image/png": "[encoded data removed]",
      "text/plain": [
       "<matplotlib.figure.Figure at 0x7f966fbbc630>"
      ]
     },
     "metadata": {},
     "output_type": "display_data"
    }
   ],
   "source": [
    "# Compare the proportion of data in each cluster for the customer data to the\n",
    "# proportion of data in each cluster for the general population.\n",
    "\n",
    "def plot_data_bar(df,title):\n",
    "    sns.set(rc={'figure.figsize':(10,5)})\n",
    "\n",
    "    fig=sns.barplot(data = df)\n",
    "\n",
    "    plt.xlabel(\"Clusters\")\n",
    "    plt.ylabel(\"Count\")\n",
    "    plt.title(title)\n",
    "    plt.show(fig)\n",
    "\n",
    "print('Barplot')\n",
    "plot_data_bar(azdias_predicted,\"General\")\n",
    "plot_data_bar(customers_predictions,\"Customers\")"
   ]
  },
  {
   "cell_type": "code",
   "execution_count": 69,
   "metadata": {},
   "outputs": [
    {
     "name": "stdout",
     "output_type": "stream",
     "text": [
      "Countplot\n"
     ]
    },
    {
     "data": {
      "image/png": "[encoded data removed]",
      "text/plain": [
       "<matplotlib.figure.Figure at 0x7f966f8b54a8>"
      ]
     },
     "metadata": {},
     "output_type": "display_data"
    },
    {
     "data": {
      "image/png": "[encoded data removed]",
      "text/plain": [
       "<matplotlib.figure.Figure at 0x7f9672597cc0>"
      ]
     },
     "metadata": {},
     "output_type": "display_data"
    }
   ],
   "source": [
    "def plot_data_count(df,title):\n",
    "    sns.set(rc={'figure.figsize':(10,5)})\n",
    "\n",
    "    fig=sns.countplot(df)\n",
    "    plt.xlabel(\"Clusters\")\n",
    "    plt.ylabel(\"Count\")\n",
    "    plt.title(title)\n",
    "    plt.show(fig)\n",
    "\n",
    "print('Countplot')\n",
    "plot_data_count(azdias_predicted,\"General\")\n",
    "plot_data_count(customers_predictions,\"Customers\")"
   ]
  },
  {
   "cell_type": "markdown",
   "metadata": {},
   "source": [
    "- cluster centers documentation <br>\n",
    "https://scikit-learn.org/stable/modules/generated/sklearn.cluster.KMeans.html"
   ]
  },
  {
   "cell_type": "markdown",
   "metadata": {},
   "source": [
    "- a lot of help i got form these questions\n",
    "https://knowledge.udacity.com/?nanodegree=nd229&page=1&project=491&query=overrepresented&rubric=2538&sort=RELEVANCE"
   ]
  },
  {
   "cell_type": "code",
   "execution_count": 70,
   "metadata": {},
   "outputs": [],
   "source": [
    "# What kinds of people are part of a cluster that is overrepresented in the\n",
    "# customer data compared to the general population?\n",
    "\n",
    "cluster_num_seven = sc.inverse_transform(pca.inverse_transform(finalKmean.cluster_centers_[7]))"
   ]
  },
  {
   "cell_type": "code",
   "execution_count": 71,
   "metadata": {},
   "outputs": [
    {
     "name": "stdout",
     "output_type": "stream",
     "text": [
      "<class 'numpy.ndarray'>\n",
      "(64,)\n",
      "[  3.10387502e+00   1.45350538e+00   3.56752842e+00   1.99716404e+00\n",
      "   3.98092996e+00   2.05870542e+00   2.16700204e+00   3.15776733e+00\n",
      "   7.05377104e-01   2.12882694e+00   3.84300502e+00   4.27932338e+00\n",
      "   3.98287806e+00   3.42825107e+00   3.81629713e+00   4.63140153e+00\n",
      "   5.10897080e+00   4.68816643e+00   3.86083836e+00   3.44416346e+00\n",
      "   4.49218888e+00   4.56076409e+00   4.05144795e+00   3.55966427e+00\n",
      "   3.34526903e+00   9.85896184e-03   1.57693414e+00   2.15830468e+00\n",
      "   1.01856170e+00   3.51439241e+00   4.38424124e+00   8.58589438e+00\n",
      "   1.52439120e+01   1.76028256e+00   2.49414041e+00   1.99259778e+03\n",
      "   8.08002382e-01   1.60674348e+00   1.27569489e+00   3.84888806e-01\n",
      "   3.18613024e-01   3.31289308e+00   3.78010608e+00   4.37120433e+00\n",
      "   4.06462464e+00   3.35964470e+00   2.10833844e+00   3.02725605e+00\n",
      "   2.67587507e+00   3.62282620e+00   6.21012643e+02   2.12359372e+00\n",
      "   2.88538389e+00   1.70232946e+00   8.41878648e-01   3.76209307e+00\n",
      "   3.33142840e+00   3.13912577e+00   5.85558459e+00   3.15703021e+00\n",
      "   2.94622896e-01   3.71212478e+00   2.94080590e+00   3.41078585e+00]\n"
     ]
    }
   ],
   "source": [
    "print(type(cluster_num_seven))\n",
    "print(cluster_num_seven.shape)\n",
    "print(cluster_num_seven)"
   ]
  },
  {
   "cell_type": "code",
   "execution_count": 76,
   "metadata": {},
   "outputs": [
    {
     "data": {
      "text/plain": [
       "ALTERSKATEGORIE_GROB        3.103875\n",
       "ANREDE_KZ                   1.453505\n",
       "FINANZ_MINIMALIST           3.567528\n",
       "FINANZ_SPARER               1.997164\n",
       "FINANZ_VORSORGER            3.980930\n",
       "FINANZ_ANLEGER              2.058705\n",
       "FINANZ_UNAUFFAELLIGER       2.167002\n",
       "FINANZ_HAUSBAUER            3.157767\n",
       "GREEN_AVANTGARDE            0.705377\n",
       "HEALTH_TYP                  2.128827\n",
       "RETOURTYP_BK_S              3.843005\n",
       "SEMIO_SOZ                   4.279323\n",
       "SEMIO_FAM                   3.982878\n",
       "SEMIO_REL                   3.428251\n",
       "SEMIO_MAT                   3.816297\n",
       "SEMIO_VERT                  4.631402\n",
       "SEMIO_LUST                  5.108971\n",
       "SEMIO_ERL                   4.688166\n",
       "SEMIO_KULT                  3.860838\n",
       "SEMIO_RAT                   3.444163\n",
       "SEMIO_KRIT                  4.492189\n",
       "SEMIO_DOM                   4.560764\n",
       "SEMIO_KAEM                  4.051448\n",
       "SEMIO_PFLICHT               3.559664\n",
       "SEMIO_TRADV                 3.345269\n",
       "SOHO_KZ                     0.009859\n",
       "VERS_TYP                    1.576934\n",
       "ANZ_PERSONEN                2.158305\n",
       "ANZ_TITEL                   1.018562\n",
       "HH_EINKOMMEN_SCORE          3.514392\n",
       "                            ...     \n",
       "KONSUMNAEHE                 2.494140\n",
       "MIN_GEBAEUDEJAHR         1992.597782\n",
       "OST_WEST_KZ                 0.808002\n",
       "KBA05_ANTG1                 1.606743\n",
       "KBA05_ANTG2                 1.275695\n",
       "KBA05_ANTG3                 0.384889\n",
       "KBA05_ANTG4                 0.318613\n",
       "KBA05_GBZ                   3.312893\n",
       "BALLRAUM                    3.780106\n",
       "EWDICHTE                    4.371204\n",
       "INNENSTADT                  4.064625\n",
       "GEBAEUDETYP_RASTER          3.359645\n",
       "KKK                         2.108338\n",
       "MOBI_REGIO                  3.027256\n",
       "ONLINE_AFFINITAET           2.675875\n",
       "REGIOTYP                    3.622826\n",
       "KBA13_ANZAHL_PKW          621.012643\n",
       "PLZ8_ANTG1                  2.123594\n",
       "PLZ8_ANTG2                  2.885384\n",
       "PLZ8_ANTG3                  1.702329\n",
       "PLZ8_ANTG4                  0.841879\n",
       "PLZ8_HHZ                    3.762093\n",
       "PLZ8_GBZ                    3.331428\n",
       "ARBEIT                      3.139126\n",
       "ORTSGR_KLS9                 5.855585\n",
       "RELAT_AB                    3.157030\n",
       "Movement                    0.294623\n",
       "Decade                      3.712125\n",
       "Wealth                      2.940806\n",
       "Life_stage                  3.410786\n",
       "Length: 64, dtype: float64"
      ]
     },
     "execution_count": 76,
     "metadata": {},
     "output_type": "execute_result"
    }
   ],
   "source": [
    "over=pd.Series(data = cluster_num_seven, index = customers_clean.columns)\n",
    "over"
   ]
  },
  {
   "cell_type": "markdown",
   "metadata": {},
   "source": [
    "https://knowledge.udacity.com/questions/142121\n",
    "- The inverse operation was tricky this should unpack the targeted pca to the features we combined into a pca \n",
    "if im wrong please elaborate"
   ]
  },
  {
   "cell_type": "markdown",
   "metadata": {},
   "source": [
    "https://knowledge.udacity.com/questions/450852"
   ]
  },
  {
   "cell_type": "code",
   "execution_count": 77,
   "metadata": {
    "scrolled": true
   },
   "outputs": [
    {
     "data": {
      "text/plain": [
       "ALTERSKATEGORIE_GROB        1.499607\n",
       "ANREDE_KZ                   2.022542\n",
       "FINANZ_MINIMALIST           1.194215\n",
       "FINANZ_SPARER               4.237150\n",
       "FINANZ_VORSORGER            2.174454\n",
       "FINANZ_ANLEGER              4.090085\n",
       "FINANZ_UNAUFFAELLIGER       3.618539\n",
       "FINANZ_HAUSBAUER            4.150293\n",
       "GREEN_AVANTGARDE            0.027902\n",
       "HEALTH_TYP                  2.201630\n",
       "RETOURTYP_BK_S              2.403385\n",
       "SEMIO_SOZ                   3.218062\n",
       "SEMIO_FAM                   3.933862\n",
       "SEMIO_REL                   5.438618\n",
       "SEMIO_MAT                   5.137034\n",
       "SEMIO_VERT                  2.207444\n",
       "SEMIO_LUST                  2.655851\n",
       "SEMIO_ERL                   4.105644\n",
       "SEMIO_KULT                  4.248554\n",
       "SEMIO_RAT                   6.424630\n",
       "SEMIO_KRIT                  5.492253\n",
       "SEMIO_DOM                   6.282739\n",
       "SEMIO_KAEM                  6.224439\n",
       "SEMIO_PFLICHT               6.426061\n",
       "SEMIO_TRADV                 5.952291\n",
       "SOHO_KZ                    -0.000008\n",
       "VERS_TYP                    1.470245\n",
       "ANZ_PERSONEN                1.530801\n",
       "ANZ_TITEL                  -0.000218\n",
       "HH_EINKOMMEN_SCORE          5.618280\n",
       "                            ...     \n",
       "KONSUMNAEHE                 2.070667\n",
       "MIN_GEBAEUDEJAHR         1992.376162\n",
       "OST_WEST_KZ                 0.716606\n",
       "KBA05_ANTG1                 0.350815\n",
       "KBA05_ANTG2                 1.261668\n",
       "KBA05_ANTG3                 1.224828\n",
       "KBA05_ANTG4                 0.619830\n",
       "KBA05_GBZ                   2.117214\n",
       "BALLRAUM                    3.078721\n",
       "EWDICHTE                    5.241260\n",
       "INNENSTADT                  3.302448\n",
       "GEBAEUDETYP_RASTER          3.398638\n",
       "KKK                         2.890183\n",
       "MOBI_REGIO                  1.731169\n",
       "ONLINE_AFFINITAET           3.123797\n",
       "REGIOTYP                    5.050194\n",
       "KBA13_ANZAHL_PKW          511.383157\n",
       "PLZ8_ANTG1                  1.425132\n",
       "PLZ8_ANTG2                  3.321508\n",
       "PLZ8_ANTG3                  2.463024\n",
       "PLZ8_ANTG4                  1.322503\n",
       "PLZ8_HHZ                    3.753771\n",
       "PLZ8_GBZ                    2.654739\n",
       "ARBEIT                      3.710735\n",
       "ORTSGR_KLS9                 7.080569\n",
       "RELAT_AB                    3.758051\n",
       "Movement                    0.972098\n",
       "Decade                      5.665425\n",
       "Wealth                      4.360964\n",
       "Life_stage                  2.039657\n",
       "Length: 64, dtype: float64"
      ]
     },
     "execution_count": 77,
     "metadata": {},
     "output_type": "execute_result"
    }
   ],
   "source": [
    "# What kinds of people are part of a cluster that is underrepresented in the\n",
    "# customer data compared to the general population?\n",
    "cluster_num_three = sc.inverse_transform(pca.inverse_transform(finalKmean.cluster_centers_[3]))\n",
    "under=pd.Series(data = cluster_num_three, index = customers_clean.columns)\n",
    "under"
   ]
  },
  {
   "cell_type": "markdown",
   "metadata": {},
   "source": [
    "https://stackoverflow.com/questions/48655801/tables-in-markdown-in-jupyter"
   ]
  },
  {
   "cell_type": "markdown",
   "metadata": {},
   "source": [
    "### Discussion 3.3: Compare Customer Data to Demographics Data\n",
    "\n",
    "(Double-click this cell and replace this text with your own text, reporting findings and conclusions from the clustering analysis. Can we describe segments of the population that are relatively popular with the mail-order company, or relatively unpopular with the company?) <br><br>\n",
    "\n",
    "<h4>Cluster 7 is overrepresented in the customers data compared to general population data. We describe segments of the population that are relatively popular with the mail-order company as:</h4>\n",
    "\n",
    "| Feature | Value | Interpretation |\n",
    "| --- | --- | --- |\n",
    "| ALTERSKATEGORIE_GROB | 3.103875 | age >60  |\n",
    "| PLZ8_ANTG3 | 1.702329 | In areas where the share of 6-10 family homes is average |\n",
    "| HEALTH_TYP | 2.128827 | Health typology sanitary affine |\n",
    "| ANREDE_KZ | 1.453505 | Gender Male |\n",
    "| HH_EINKOMMEN_SCORE | 3.514392 | average income |\n",
    "\n",
    "\n",
    "\n",
    "<h4>Cluster 3 is underrepresented in the customers data compared to general population data. We describe segments of the population that are relatively unpopular with the mail-order company as:</h4>\n",
    "\n",
    "| Feature | Value | Interpretation |\n",
    "| --- | --- | --- |\n",
    "| ALTERSKATEGORIE_GROB | 1.499607 | age < 30 years old |\n",
    "| PLZ8_ANTG3 | 2.463024 | In areas where the share of 6-10 family homes is average |\n",
    "| HEALTH_TYP | 2.201630 | Health typology sanitary affine |\n",
    "| ANREDE_KZ | 2.022542 | Gender Female |\n",
    "| HH_EINKOMMEN_SCORE | 5.618280 | lower income |"
   ]
  },
  {
   "cell_type": "markdown",
   "metadata": {},
   "source": [
    "> Congratulations on making it this far in the project! Before you finish, make sure to check through the entire notebook from top to bottom to make sure that your analysis follows a logical flow and all of your findings are documented in **Discussion** cells. Once you've checked over all of your work, you should export the notebook as an HTML document to submit for evaluation. You can do this from the menu, navigating to **File -> Download as -> HTML (.html)**. You will submit both that document and this notebook for your project submission."
   ]
  },
  {
   "cell_type": "markdown",
   "metadata": {},
   "source": []
  },
  {
   "cell_type": "code",
   "execution_count": null,
   "metadata": {},
   "outputs": [],
   "source": []
  }
 ],
 "metadata": {
  "kernelspec": {
   "display_name": "Python 3",
   "language": "python",
   "name": "python3"
  },
  "language_info": {
   "codemirror_mode": {
    "name": "ipython",
    "version": 3
   },
   "file_extension": ".py",
   "mimetype": "text/x-python",
   "name": "python",
   "nbconvert_exporter": "python",
   "pygments_lexer": "ipython3",
   "version": "3.6.3"
  }
 },
 "nbformat": 4,
 "nbformat_minor": 2
}
